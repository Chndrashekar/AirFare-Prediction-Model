{
 "cells": [
  {
   "cell_type": "code",
   "execution_count": 1,
   "metadata": {
    "colab": {},
    "colab_type": "code",
    "id": "Pq6JjN4LTmm4"
   },
   "outputs": [],
   "source": [
    "import numpy as np # linear algebra\n",
    "import pandas as pd # data processing, CSV file I/O (e.g. pd.read_csv)\n",
    "get_ipython().run_line_magic('matplotlib', 'inline')\n",
    "import matplotlib.pyplot as plt  # Matlab-style plotting\n",
    "import seaborn as sns\n",
    "color = sns.color_palette()\n",
    "sns.set_style('darkgrid')\n",
    "from scipy import stats\n",
    "from scipy.stats import norm, skew\n",
    "from sklearn.linear_model import LinearRegression\n",
    "from sklearn.model_selection import KFold, cross_val_score\n",
    "from sklearn.model_selection import cross_val_predict\n",
    "from sklearn.preprocessing import RobustScaler\n",
    "from sklearn.pipeline import make_pipeline\n",
    "from sklearn.linear_model import RidgeCV\n",
    "from sklearn.linear_model import LassoCV\n",
    "from sklearn.linear_model import ElasticNetCV\n",
    "from sklearn import svm\n",
    "from lightgbm import LGBMRegressor"
   ]
  },
  {
   "cell_type": "code",
   "execution_count": 2,
   "metadata": {
    "colab": {},
    "colab_type": "code",
    "id": "juRNn26-TocC"
   },
   "outputs": [],
   "source": [
    "import datetime as dt"
   ]
  },
  {
   "cell_type": "code",
   "execution_count": 3,
   "metadata": {
    "colab": {},
    "colab_type": "code",
    "id": "vEQSENdgTmm-"
   },
   "outputs": [],
   "source": [
    "big_df =  pd.read_csv('input/data_new.csv')\n",
    "#test_df=pd.read_excel('Test_set.xlsx')"
   ]
  },
  {
   "cell_type": "code",
   "execution_count": 0,
   "metadata": {
    "colab": {},
    "colab_type": "code",
    "id": "n0v4dDSOTmnC"
   },
   "outputs": [],
   "source": [
    "#big_df = train_df.append(test_df)"
   ]
  },
  {
   "cell_type": "code",
   "execution_count": 4,
   "metadata": {
    "colab": {
     "base_uri": "https://localhost:8080/",
     "height": 323
    },
    "colab_type": "code",
    "id": "WmJaz_BZTmnG",
    "outputId": "f27e9728-7274-4eb0-8ff3-9a66c162c68f"
   },
   "outputs": [
    {
     "data": {
      "text/plain": [
       "Origin            object\n",
       "Destination       object\n",
       "Dept_Date         object\n",
       "Dept_Time         object\n",
       "Arr_Time          object\n",
       "Total_Fare       float64\n",
       "Base_Fare        float64\n",
       "Fuel_Fare        float64\n",
       "Airways           object\n",
       "Available        float64\n",
       "Duration          object\n",
       "Class_Type        object\n",
       "Flight Number     object\n",
       "Flight Code       object\n",
       "FlightID          object\n",
       "Hopping           object\n",
       "Taken             object\n",
       "dtype: object"
      ]
     },
     "execution_count": 4,
     "metadata": {},
     "output_type": "execute_result"
    }
   ],
   "source": [
    "big_df.dtypes"
   ]
  },
  {
   "cell_type": "code",
   "execution_count": 0,
   "metadata": {
    "colab": {},
    "colab_type": "code",
    "id": "e4czuqZnTmnO"
   },
   "outputs": [],
   "source": [
    "big_df['Date'] = big_df['Dept_Date'].str.split('/').str[0]\n",
    "big_df['Month'] = big_df['Dept_Date'].str.split('/').str[1]\n",
    "big_df['Year'] = big_df['Dept_Date'].str.split('/').str[2]"
   ]
  },
  {
   "cell_type": "code",
   "execution_count": 0,
   "metadata": {
    "colab": {},
    "colab_type": "code",
    "id": "2oYnfJqffxGD"
   },
   "outputs": [],
   "source": [
    "big_df[\"Dept_Date\"] = big_df[\"Dept_Date\"].apply(pd.to_datetime)"
   ]
  },
  {
   "cell_type": "code",
   "execution_count": 0,
   "metadata": {
    "colab": {},
    "colab_type": "code",
    "id": "uQ433JJdgDcY"
   },
   "outputs": [],
   "source": [
    "def weekDay(dayVal):\n",
    "    day, month, year = (int(x) for x in dayVal.split('-'))    \n",
    "    ans = dt.date(year, month, day).strftime(\"%a\")\n",
    "    return ans"
   ]
  },
  {
   "cell_type": "code",
   "execution_count": 0,
   "metadata": {
    "colab": {},
    "colab_type": "code",
    "id": "3y0sTiM_f226"
   },
   "outputs": [],
   "source": [
    "big_df['Taken_Day'] = big_df['Taken'].apply(weekDay)"
   ]
  },
  {
   "cell_type": "code",
   "execution_count": 0,
   "metadata": {
    "colab": {},
    "colab_type": "code",
    "id": "D1zWDVvQgNrb"
   },
   "outputs": [],
   "source": [
    "big_df[\"Taken\"] = big_df[\"Taken\"].apply(pd.to_datetime)"
   ]
  },
  {
   "cell_type": "code",
   "execution_count": 0,
   "metadata": {
    "colab": {},
    "colab_type": "code",
    "id": "t1K8xJCIgYqp"
   },
   "outputs": [],
   "source": [
    "big_df['Days_To_Dept'] = (big_df['Dept_Date'] - big_df['Taken']).dt.days"
   ]
  },
  {
   "cell_type": "code",
   "execution_count": 0,
   "metadata": {
    "colab": {},
    "colab_type": "code",
    "id": "Ed_tgCuHbH8q"
   },
   "outputs": [],
   "source": [
    "big_df=big_df.drop(['Dept_Date'], axis=1)"
   ]
  },
  {
   "cell_type": "code",
   "execution_count": 0,
   "metadata": {
    "colab": {},
    "colab_type": "code",
    "id": "wKOTwHLagjvd"
   },
   "outputs": [],
   "source": [
    "big_df=big_df.drop(['Taken'], axis=1)"
   ]
  },
  {
   "cell_type": "code",
   "execution_count": 0,
   "metadata": {
    "colab": {},
    "colab_type": "code",
    "id": "lwf0N9ivTmnR"
   },
   "outputs": [],
   "source": [
    "big_df['Date'] = big_df['Date'].astype(int)\n",
    "big_df['Month'] = big_df['Month'].astype(int)\n",
    "big_df['Year'] = big_df['Year'].astype(int)"
   ]
  },
  {
   "cell_type": "code",
   "execution_count": 19,
   "metadata": {
    "colab": {
     "base_uri": "https://localhost:8080/",
     "height": 442
    },
    "colab_type": "code",
    "id": "fB_1TEW8tnJP",
    "outputId": "0e1f297d-fde4-4f22-f9de-25412299896b"
   },
   "outputs": [
    {
     "name": "stdout",
     "output_type": "stream",
     "text": [
      "<class 'pandas.core.frame.DataFrame'>\n",
      "RangeIndex: 51734 entries, 0 to 51733\n",
      "Data columns (total 20 columns):\n",
      "Origin           51734 non-null object\n",
      "Destination      51734 non-null object\n",
      "Dept_Time        51719 non-null object\n",
      "Arr_Time         51719 non-null object\n",
      "Total_Fare       51719 non-null float64\n",
      "Base_Fare        51719 non-null float64\n",
      "Fuel_Fare        51719 non-null float64\n",
      "Airways          51719 non-null object\n",
      "Available        51719 non-null float64\n",
      "Duration         51719 non-null object\n",
      "Class_Type       51719 non-null object\n",
      "Flight Number    51719 non-null object\n",
      "Flight Code      51719 non-null object\n",
      "FlightID         51719 non-null object\n",
      "Hopping          51719 non-null object\n",
      "Date             51734 non-null int64\n",
      "Month            51734 non-null int64\n",
      "Year             51734 non-null int64\n",
      "Taken_Day        51734 non-null object\n",
      "Days_To_Dept     51734 non-null int64\n",
      "dtypes: float64(4), int64(4), object(12)\n",
      "memory usage: 7.9+ MB\n"
     ]
    }
   ],
   "source": [
    "big_df.info()"
   ]
  },
  {
   "cell_type": "code",
   "execution_count": 0,
   "metadata": {
    "colab": {},
    "colab_type": "code",
    "id": "Ip1B6R1dTmnZ"
   },
   "outputs": [],
   "source": [
    "big_df['Arrival_Hour'] = big_df['Arr_Time'] .str.split(':').str[0]\n",
    "big_df['Arrival_Minute'] = big_df['Arr_Time'] .str.split(':').str[1]\n",
    "big_df['Arrival_Hour'] = pd.to_numeric(big_df['Arrival_Hour'], errors='coerce')\n",
    "big_df= big_df.dropna(subset=['Arrival_Hour'])\n"
   ]
  },
  {
   "cell_type": "code",
   "execution_count": 0,
   "metadata": {
    "colab": {},
    "colab_type": "code",
    "id": "ijAMpmXKbii4"
   },
   "outputs": [],
   "source": [
    "big_df['Arrival_Hour'] = big_df['Arrival_Hour'].astype(int)\n",
    "big_df['Arrival_Minute'] = big_df['Arrival_Minute'].astype(int)\n",
    "big_df=big_df.drop(['Arr_Time'], axis=1)"
   ]
  },
  {
   "cell_type": "code",
   "execution_count": 0,
   "metadata": {
    "colab": {},
    "colab_type": "code",
    "id": "LBfP4CkBWY6k"
   },
   "outputs": [],
   "source": []
  },
  {
   "cell_type": "code",
   "execution_count": 0,
   "metadata": {
    "colab": {},
    "colab_type": "code",
    "id": "S_rgOo63W0hY"
   },
   "outputs": [],
   "source": [
    "big_df['Dep_Hour'] = big_df['Dept_Time'] .str.split(':').str[0]\n",
    "big_df['Dep_Minute'] = big_df['Dept_Time'] .str.split(':').str[1]\n",
    "big_df['Dep_Hour'] = pd.to_numeric(big_df['Dep_Hour'], errors='coerce')\n",
    "big_df= big_df.dropna(subset=['Dep_Hour'])\n",
    "big_df['Dep_Hour'] = big_df['Dep_Hour'].astype(int)\n",
    "big_df['Dep_Minute'] = big_df['Dep_Minute'].astype(int)"
   ]
  },
  {
   "cell_type": "code",
   "execution_count": 0,
   "metadata": {
    "colab": {},
    "colab_type": "code",
    "id": "6vGhMiWzXtGv"
   },
   "outputs": [],
   "source": []
  },
  {
   "cell_type": "code",
   "execution_count": 0,
   "metadata": {
    "colab": {},
    "colab_type": "code",
    "id": "GnsBxYiFTmne"
   },
   "outputs": [],
   "source": [
    "big_df=big_df.drop(['Dept_Time'], axis=1)\n",
    "#big_df['Dep_Hour'] = big_df['Dep_Hour'].astype(int)\n",
    "#big_df['Dep_Minute'] = big_df['Dep_Minute'].astype(int)\n",
    "#big_df=big_df.drop(['Dep_Time'], axis=1)\n",
    "\n",
    "\n",
    "# In[94]:\n",
    "\n",
    "\n",
    "#big_df['Route_1'] = big_df['Route'] .str.split('→ ').str[0]\n",
    "#big_df['Route_2'] = big_df['Route'] .str.split('→ ').str[1]\n",
    "#big_df['Route_3'] = big_df['Route'] .str.split('→ ').str[2]\n",
    "#big_df['Route_4'] = big_df['Route'] .str.split('→ ').str[3]\n",
    "#big_df['Route_5'] = big_df['Route'] .str.split('→ ').str[4]"
   ]
  },
  {
   "cell_type": "code",
   "execution_count": 0,
   "metadata": {
    "colab": {},
    "colab_type": "code",
    "id": "ohIT6U0tTmni"
   },
   "outputs": [],
   "source": [
    "big_df['Total_Fare'].fillna((big_df['Total_Fare'].mean()), inplace=True)\n",
    "\n",
    "\n",
    "# In[96]:\n",
    "\n",
    "\n",
    "#big_df['Route_1'].fillna(\"None\",inplace = True)\n",
    "#big_df['Route_2'].fillna(\"None\",inplace = True)\n",
    "#big_df['Route_3'].fillna(\"None\",inplace = True)\n",
    "#big_df['Route_4'].fillna(\"None\",inplace = True)\n",
    "#big_df['Route_5'].fillna(\"None\",inplace = True)"
   ]
  },
  {
   "cell_type": "code",
   "execution_count": 25,
   "metadata": {
    "colab": {
     "base_uri": "https://localhost:8080/",
     "height": 317
    },
    "colab_type": "code",
    "id": "gar1G1oVTmnl",
    "outputId": "c9370ae9-a26e-4b8b-8b31-34f4bca3515f"
   },
   "outputs": [
    {
     "data": {
      "text/html": [
       "<div>\n",
       "<style scoped>\n",
       "    .dataframe tbody tr th:only-of-type {\n",
       "        vertical-align: middle;\n",
       "    }\n",
       "\n",
       "    .dataframe tbody tr th {\n",
       "        vertical-align: top;\n",
       "    }\n",
       "\n",
       "    .dataframe thead th {\n",
       "        text-align: right;\n",
       "    }\n",
       "</style>\n",
       "<table border=\"1\" class=\"dataframe\">\n",
       "  <thead>\n",
       "    <tr style=\"text-align: right;\">\n",
       "      <th></th>\n",
       "      <th>Total_Fare</th>\n",
       "      <th>Base_Fare</th>\n",
       "      <th>Fuel_Fare</th>\n",
       "      <th>Available</th>\n",
       "      <th>Date</th>\n",
       "      <th>Month</th>\n",
       "      <th>Year</th>\n",
       "      <th>Days_To_Dept</th>\n",
       "      <th>Arrival_Hour</th>\n",
       "      <th>Arrival_Minute</th>\n",
       "      <th>Dep_Hour</th>\n",
       "      <th>Dep_Minute</th>\n",
       "    </tr>\n",
       "  </thead>\n",
       "  <tbody>\n",
       "    <tr>\n",
       "      <th>count</th>\n",
       "      <td>51719.000000</td>\n",
       "      <td>51719.000000</td>\n",
       "      <td>51719.000000</td>\n",
       "      <td>51719.000000</td>\n",
       "      <td>51719.000000</td>\n",
       "      <td>51719.000000</td>\n",
       "      <td>51719.000000</td>\n",
       "      <td>51719.000000</td>\n",
       "      <td>51719.000000</td>\n",
       "      <td>51719.000000</td>\n",
       "      <td>51719.000000</td>\n",
       "      <td>51719.000000</td>\n",
       "    </tr>\n",
       "    <tr>\n",
       "      <th>mean</th>\n",
       "      <td>7910.773739</td>\n",
       "      <td>6212.169493</td>\n",
       "      <td>1280.208589</td>\n",
       "      <td>8.921847</td>\n",
       "      <td>6.578143</td>\n",
       "      <td>15.838783</td>\n",
       "      <td>2018.490207</td>\n",
       "      <td>45.286529</td>\n",
       "      <td>11.642259</td>\n",
       "      <td>29.856339</td>\n",
       "      <td>11.214583</td>\n",
       "      <td>27.837545</td>\n",
       "    </tr>\n",
       "    <tr>\n",
       "      <th>std</th>\n",
       "      <td>4069.358744</td>\n",
       "      <td>3648.616760</td>\n",
       "      <td>847.002890</td>\n",
       "      <td>10.725873</td>\n",
       "      <td>5.205406</td>\n",
       "      <td>8.916634</td>\n",
       "      <td>0.499909</td>\n",
       "      <td>26.229297</td>\n",
       "      <td>6.399377</td>\n",
       "      <td>15.445411</td>\n",
       "      <td>6.134450</td>\n",
       "      <td>19.501057</td>\n",
       "    </tr>\n",
       "    <tr>\n",
       "      <th>min</th>\n",
       "      <td>3211.000000</td>\n",
       "      <td>1530.000000</td>\n",
       "      <td>218.000000</td>\n",
       "      <td>1.000000</td>\n",
       "      <td>1.000000</td>\n",
       "      <td>1.000000</td>\n",
       "      <td>2018.000000</td>\n",
       "      <td>0.000000</td>\n",
       "      <td>0.000000</td>\n",
       "      <td>0.000000</td>\n",
       "      <td>0.000000</td>\n",
       "      <td>0.000000</td>\n",
       "    </tr>\n",
       "    <tr>\n",
       "      <th>25%</th>\n",
       "      <td>5223.000000</td>\n",
       "      <td>3800.000000</td>\n",
       "      <td>481.000000</td>\n",
       "      <td>5.000000</td>\n",
       "      <td>1.000000</td>\n",
       "      <td>8.000000</td>\n",
       "      <td>2018.000000</td>\n",
       "      <td>23.000000</td>\n",
       "      <td>8.000000</td>\n",
       "      <td>20.000000</td>\n",
       "      <td>6.000000</td>\n",
       "      <td>10.000000</td>\n",
       "    </tr>\n",
       "    <tr>\n",
       "      <th>50%</th>\n",
       "      <td>7009.000000</td>\n",
       "      <td>5350.000000</td>\n",
       "      <td>860.000000</td>\n",
       "      <td>7.000000</td>\n",
       "      <td>11.000000</td>\n",
       "      <td>16.000000</td>\n",
       "      <td>2018.000000</td>\n",
       "      <td>46.000000</td>\n",
       "      <td>10.000000</td>\n",
       "      <td>30.000000</td>\n",
       "      <td>9.000000</td>\n",
       "      <td>30.000000</td>\n",
       "    </tr>\n",
       "    <tr>\n",
       "      <th>75%</th>\n",
       "      <td>9355.000000</td>\n",
       "      <td>7550.000000</td>\n",
       "      <td>2171.000000</td>\n",
       "      <td>9.000000</td>\n",
       "      <td>12.000000</td>\n",
       "      <td>23.000000</td>\n",
       "      <td>2019.000000</td>\n",
       "      <td>68.000000</td>\n",
       "      <td>17.000000</td>\n",
       "      <td>45.000000</td>\n",
       "      <td>17.000000</td>\n",
       "      <td>45.000000</td>\n",
       "    </tr>\n",
       "    <tr>\n",
       "      <th>max</th>\n",
       "      <td>54826.000000</td>\n",
       "      <td>49906.000000</td>\n",
       "      <td>4398.000000</td>\n",
       "      <td>112.000000</td>\n",
       "      <td>12.000000</td>\n",
       "      <td>31.000000</td>\n",
       "      <td>2019.000000</td>\n",
       "      <td>92.000000</td>\n",
       "      <td>23.000000</td>\n",
       "      <td>55.000000</td>\n",
       "      <td>23.000000</td>\n",
       "      <td>55.000000</td>\n",
       "    </tr>\n",
       "  </tbody>\n",
       "</table>\n",
       "</div>"
      ],
      "text/plain": [
       "         Total_Fare     Base_Fare     Fuel_Fare     Available          Date  \\\n",
       "count  51719.000000  51719.000000  51719.000000  51719.000000  51719.000000   \n",
       "mean    7910.773739   6212.169493   1280.208589      8.921847      6.578143   \n",
       "std     4069.358744   3648.616760    847.002890     10.725873      5.205406   \n",
       "min     3211.000000   1530.000000    218.000000      1.000000      1.000000   \n",
       "25%     5223.000000   3800.000000    481.000000      5.000000      1.000000   \n",
       "50%     7009.000000   5350.000000    860.000000      7.000000     11.000000   \n",
       "75%     9355.000000   7550.000000   2171.000000      9.000000     12.000000   \n",
       "max    54826.000000  49906.000000   4398.000000    112.000000     12.000000   \n",
       "\n",
       "              Month          Year  Days_To_Dept  Arrival_Hour  Arrival_Minute  \\\n",
       "count  51719.000000  51719.000000  51719.000000  51719.000000    51719.000000   \n",
       "mean      15.838783   2018.490207     45.286529     11.642259       29.856339   \n",
       "std        8.916634      0.499909     26.229297      6.399377       15.445411   \n",
       "min        1.000000   2018.000000      0.000000      0.000000        0.000000   \n",
       "25%        8.000000   2018.000000     23.000000      8.000000       20.000000   \n",
       "50%       16.000000   2018.000000     46.000000     10.000000       30.000000   \n",
       "75%       23.000000   2019.000000     68.000000     17.000000       45.000000   \n",
       "max       31.000000   2019.000000     92.000000     23.000000       55.000000   \n",
       "\n",
       "           Dep_Hour    Dep_Minute  \n",
       "count  51719.000000  51719.000000  \n",
       "mean      11.214583     27.837545  \n",
       "std        6.134450     19.501057  \n",
       "min        0.000000      0.000000  \n",
       "25%        6.000000     10.000000  \n",
       "50%        9.000000     30.000000  \n",
       "75%       17.000000     45.000000  \n",
       "max       23.000000     55.000000  "
      ]
     },
     "execution_count": 25,
     "metadata": {
      "tags": []
     },
     "output_type": "execute_result"
    }
   ],
   "source": [
    "big_df.describe()"
   ]
  },
  {
   "cell_type": "code",
   "execution_count": 0,
   "metadata": {
    "colab": {},
    "colab_type": "code",
    "id": "P97Rej_YTmnq"
   },
   "outputs": [],
   "source": [
    "#big_df=big_df.drop(['Route'], axis=1)\n",
    "#big_df=big_df.drop(['Duration'], axis=1)\n",
    "#big_df.info()\n",
    "\n",
    "import re\n",
    "def convertToDecimal(value):\n",
    "    h, m = re.sub(\"\\D\",\" \",value).split()\n",
    "    return int(h)*60+int(m)"
   ]
  },
  {
   "cell_type": "code",
   "execution_count": 0,
   "metadata": {
    "colab": {},
    "colab_type": "code",
    "id": "Jvsn4bBOhON4"
   },
   "outputs": [],
   "source": [
    "big_df.loc[:,'Duration'] = big_df.loc[:,'Duration'].apply(convertToDecimal)"
   ]
  },
  {
   "cell_type": "code",
   "execution_count": 0,
   "metadata": {
    "colab": {},
    "colab_type": "code",
    "id": "sDvMXUTNcDaw"
   },
   "outputs": [],
   "source": [
    "#big_df['Session'] = pd.cut(big_df.Dep_Hour,[0,6,12,18,24],labels=['Night','Morning','Afternoon','Evening'])\n",
    "def assign_session(val):\n",
    "    if val > 0.0 and val <= 6.0:\n",
    "        return 'Night'\n",
    "    elif val > 6.0 and val <= 12.0:\n",
    "        return 'Morning'\n",
    "    elif val > 12.0 and val <= 18.0:\n",
    "        return 'Afternoon'\n",
    "    else:\n",
    "        return 'Evening'"
   ]
  },
  {
   "cell_type": "code",
   "execution_count": 0,
   "metadata": {
    "colab": {},
    "colab_type": "code",
    "id": "-fP20g60hd09"
   },
   "outputs": [],
   "source": [
    "big_df['Session'] = big_df['Dep_Hour'].apply(assign_session)"
   ]
  },
  {
   "cell_type": "code",
   "execution_count": 30,
   "metadata": {
    "colab": {
     "base_uri": "https://localhost:8080/",
     "height": 493
    },
    "colab_type": "code",
    "id": "hrjBU3FtdPet",
    "outputId": "1aa1eaaf-62e6-46f8-e8f5-91e9855d64c8"
   },
   "outputs": [
    {
     "name": "stdout",
     "output_type": "stream",
     "text": [
      "<class 'pandas.core.frame.DataFrame'>\n",
      "Int64Index: 51719 entries, 0 to 51733\n",
      "Data columns (total 23 columns):\n",
      "Origin            51719 non-null object\n",
      "Destination       51719 non-null object\n",
      "Total_Fare        51719 non-null float64\n",
      "Base_Fare         51719 non-null float64\n",
      "Fuel_Fare         51719 non-null float64\n",
      "Airways           51719 non-null object\n",
      "Available         51719 non-null float64\n",
      "Duration          51719 non-null int64\n",
      "Class_Type        51719 non-null object\n",
      "Flight Number     51719 non-null object\n",
      "Flight Code       51719 non-null object\n",
      "FlightID          51719 non-null object\n",
      "Hopping           51719 non-null object\n",
      "Date              51719 non-null int64\n",
      "Month             51719 non-null int64\n",
      "Year              51719 non-null int64\n",
      "Taken_Day         51719 non-null object\n",
      "Days_To_Dept      51719 non-null int64\n",
      "Arrival_Hour      51719 non-null int64\n",
      "Arrival_Minute    51719 non-null int64\n",
      "Dep_Hour          51719 non-null int64\n",
      "Dep_Minute        51719 non-null int64\n",
      "Session           51719 non-null object\n",
      "dtypes: float64(4), int64(9), object(10)\n",
      "memory usage: 9.5+ MB\n"
     ]
    }
   ],
   "source": [
    "big_df.info()"
   ]
  },
  {
   "cell_type": "code",
   "execution_count": 0,
   "metadata": {
    "colab": {},
    "colab_type": "code",
    "id": "dcw1lbHMeEE-"
   },
   "outputs": [],
   "source": [
    "#big_df.head()"
   ]
  },
  {
   "cell_type": "code",
   "execution_count": 0,
   "metadata": {
    "colab": {},
    "colab_type": "code",
    "id": "GSPNQyoqdtCp"
   },
   "outputs": [],
   "source": [
    "big_df.loc[:,'FlightGroup'] =big_df.loc[:,['Airways','Session']].astype(str).apply('_'.join,1)"
   ]
  },
  {
   "cell_type": "code",
   "execution_count": 0,
   "metadata": {
    "colab": {},
    "colab_type": "code",
    "id": "-wy_WHY3Tmnt"
   },
   "outputs": [],
   "source": [
    "from sklearn.preprocessing import LabelEncoder\n",
    "\n",
    "lb_encode = LabelEncoder()\n",
    "big_df[\"Hopping\"] = lb_encode.fit_transform(big_df[\"Hopping\"])\n",
    "big_df[\"Airways\"] = lb_encode.fit_transform(big_df[\"Airways\"])\n",
    "big_df[\"Destination\"] = lb_encode.fit_transform(big_df[\"Destination\"])\n",
    "big_df[\"Origin\"] = lb_encode.fit_transform(big_df[\"Origin\"])\n",
    "big_df[\"Session\"] = lb_encode.fit_transform(big_df[\"Session\"])\n",
    "big_df[\"FlightGroup\"] = lb_encode.fit_transform(big_df[\"FlightGroup\"])\n",
    "#big_df['Route_1']= lb_encode.fit_transform(big_df[\"Route_1\"])\n",
    "#big_df['Route_2']= lb_encode.fit_transform(big_df[\"Route_2\"])\n",
    "#big_df['Route_3']= lb_encode.fit_transform(big_df[\"Route_3\"])\n",
    "#big_df['Route_4']= lb_encode.fit_transform(big_df[\"Route_4\"])\n",
    "#big_df['Route_5']= lb_encode.fit_transform(big_df[\"Route_5\"])"
   ]
  },
  {
   "cell_type": "code",
   "execution_count": 0,
   "metadata": {
    "colab": {},
    "colab_type": "code",
    "id": "Q_xTWIG0eXzc"
   },
   "outputs": [],
   "source": [
    "#big_df = big_df.drop(['Session'],axis=1)\n",
    "big_df[\"Taken_Day\"] = lb_encode.fit_transform(big_df[\"Taken_Day\"])"
   ]
  },
  {
   "cell_type": "code",
   "execution_count": 35,
   "metadata": {
    "colab": {
     "base_uri": "https://localhost:8080/",
     "height": 287
    },
    "colab_type": "code",
    "id": "hCXAkwlyhfqi",
    "outputId": "df3ed02e-4490-4ca9-d8f6-5b04393b11b7"
   },
   "outputs": [
    {
     "data": {
      "text/html": [
       "<div>\n",
       "<style scoped>\n",
       "    .dataframe tbody tr th:only-of-type {\n",
       "        vertical-align: middle;\n",
       "    }\n",
       "\n",
       "    .dataframe tbody tr th {\n",
       "        vertical-align: top;\n",
       "    }\n",
       "\n",
       "    .dataframe thead th {\n",
       "        text-align: right;\n",
       "    }\n",
       "</style>\n",
       "<table border=\"1\" class=\"dataframe\">\n",
       "  <thead>\n",
       "    <tr style=\"text-align: right;\">\n",
       "      <th></th>\n",
       "      <th>Origin</th>\n",
       "      <th>Destination</th>\n",
       "      <th>Total_Fare</th>\n",
       "      <th>Base_Fare</th>\n",
       "      <th>Fuel_Fare</th>\n",
       "      <th>Airways</th>\n",
       "      <th>Available</th>\n",
       "      <th>Duration</th>\n",
       "      <th>Class_Type</th>\n",
       "      <th>Flight Number</th>\n",
       "      <th>...</th>\n",
       "      <th>Month</th>\n",
       "      <th>Year</th>\n",
       "      <th>Taken_Day</th>\n",
       "      <th>Days_To_Dept</th>\n",
       "      <th>Arrival_Hour</th>\n",
       "      <th>Arrival_Minute</th>\n",
       "      <th>Dep_Hour</th>\n",
       "      <th>Dep_Minute</th>\n",
       "      <th>Session</th>\n",
       "      <th>FlightGroup</th>\n",
       "    </tr>\n",
       "  </thead>\n",
       "  <tbody>\n",
       "    <tr>\n",
       "      <th>0</th>\n",
       "      <td>0</td>\n",
       "      <td>7</td>\n",
       "      <td>7517.0</td>\n",
       "      <td>6450.0</td>\n",
       "      <td>796.0</td>\n",
       "      <td>2</td>\n",
       "      <td>1.0</td>\n",
       "      <td>170</td>\n",
       "      <td>Economy</td>\n",
       "      <td>2484</td>\n",
       "      <td>...</td>\n",
       "      <td>13</td>\n",
       "      <td>2018</td>\n",
       "      <td>4</td>\n",
       "      <td>0</td>\n",
       "      <td>2</td>\n",
       "      <td>20</td>\n",
       "      <td>23</td>\n",
       "      <td>30</td>\n",
       "      <td>1</td>\n",
       "      <td>7</td>\n",
       "    </tr>\n",
       "    <tr>\n",
       "      <th>1</th>\n",
       "      <td>0</td>\n",
       "      <td>7</td>\n",
       "      <td>7806.0</td>\n",
       "      <td>7025.0</td>\n",
       "      <td>460.0</td>\n",
       "      <td>4</td>\n",
       "      <td>9.0</td>\n",
       "      <td>175</td>\n",
       "      <td>Economy</td>\n",
       "      <td>192</td>\n",
       "      <td>...</td>\n",
       "      <td>13</td>\n",
       "      <td>2018</td>\n",
       "      <td>4</td>\n",
       "      <td>0</td>\n",
       "      <td>12</td>\n",
       "      <td>30</td>\n",
       "      <td>9</td>\n",
       "      <td>35</td>\n",
       "      <td>2</td>\n",
       "      <td>19</td>\n",
       "    </tr>\n",
       "    <tr>\n",
       "      <th>2</th>\n",
       "      <td>0</td>\n",
       "      <td>7</td>\n",
       "      <td>7888.0</td>\n",
       "      <td>6755.0</td>\n",
       "      <td>862.0</td>\n",
       "      <td>2</td>\n",
       "      <td>13.0</td>\n",
       "      <td>285</td>\n",
       "      <td>Economy</td>\n",
       "      <td>427_ 202</td>\n",
       "      <td>...</td>\n",
       "      <td>13</td>\n",
       "      <td>2018</td>\n",
       "      <td>4</td>\n",
       "      <td>0</td>\n",
       "      <td>21</td>\n",
       "      <td>35</td>\n",
       "      <td>16</td>\n",
       "      <td>50</td>\n",
       "      <td>0</td>\n",
       "      <td>6</td>\n",
       "    </tr>\n",
       "    <tr>\n",
       "      <th>3</th>\n",
       "      <td>0</td>\n",
       "      <td>7</td>\n",
       "      <td>8009.0</td>\n",
       "      <td>7195.0</td>\n",
       "      <td>661.0</td>\n",
       "      <td>1</td>\n",
       "      <td>11.0</td>\n",
       "      <td>165</td>\n",
       "      <td>Economy</td>\n",
       "      <td>722</td>\n",
       "      <td>...</td>\n",
       "      <td>13</td>\n",
       "      <td>2018</td>\n",
       "      <td>4</td>\n",
       "      <td>0</td>\n",
       "      <td>2</td>\n",
       "      <td>10</td>\n",
       "      <td>23</td>\n",
       "      <td>25</td>\n",
       "      <td>1</td>\n",
       "      <td>4</td>\n",
       "    </tr>\n",
       "    <tr>\n",
       "      <th>4</th>\n",
       "      <td>0</td>\n",
       "      <td>7</td>\n",
       "      <td>8041.0</td>\n",
       "      <td>6950.0</td>\n",
       "      <td>820.0</td>\n",
       "      <td>2</td>\n",
       "      <td>3.0</td>\n",
       "      <td>165</td>\n",
       "      <td>Economy</td>\n",
       "      <td>2988</td>\n",
       "      <td>...</td>\n",
       "      <td>13</td>\n",
       "      <td>2018</td>\n",
       "      <td>4</td>\n",
       "      <td>0</td>\n",
       "      <td>19</td>\n",
       "      <td>45</td>\n",
       "      <td>17</td>\n",
       "      <td>0</td>\n",
       "      <td>0</td>\n",
       "      <td>6</td>\n",
       "    </tr>\n",
       "  </tbody>\n",
       "</table>\n",
       "<p>5 rows × 24 columns</p>\n",
       "</div>"
      ],
      "text/plain": [
       "   Origin  Destination  Total_Fare  Base_Fare  Fuel_Fare  Airways  Available  \\\n",
       "0       0            7      7517.0     6450.0      796.0        2        1.0   \n",
       "1       0            7      7806.0     7025.0      460.0        4        9.0   \n",
       "2       0            7      7888.0     6755.0      862.0        2       13.0   \n",
       "3       0            7      8009.0     7195.0      661.0        1       11.0   \n",
       "4       0            7      8041.0     6950.0      820.0        2        3.0   \n",
       "\n",
       "   Duration Class_Type Flight Number  ... Month  Year  Taken_Day  \\\n",
       "0       170    Economy          2484  ...    13  2018          4   \n",
       "1       175    Economy           192  ...    13  2018          4   \n",
       "2       285    Economy      427_ 202  ...    13  2018          4   \n",
       "3       165    Economy           722  ...    13  2018          4   \n",
       "4       165    Economy          2988  ...    13  2018          4   \n",
       "\n",
       "   Days_To_Dept  Arrival_Hour  Arrival_Minute  Dep_Hour  Dep_Minute  Session  \\\n",
       "0             0             2              20        23          30        1   \n",
       "1             0            12              30         9          35        2   \n",
       "2             0            21              35        16          50        0   \n",
       "3             0             2              10        23          25        1   \n",
       "4             0            19              45        17           0        0   \n",
       "\n",
       "   FlightGroup  \n",
       "0            7  \n",
       "1           19  \n",
       "2            6  \n",
       "3            4  \n",
       "4            6  \n",
       "\n",
       "[5 rows x 24 columns]"
      ]
     },
     "execution_count": 35,
     "metadata": {
      "tags": []
     },
     "output_type": "execute_result"
    }
   ],
   "source": [
    "big_df.head()"
   ]
  },
  {
   "cell_type": "code",
   "execution_count": 0,
   "metadata": {
    "colab": {},
    "colab_type": "code",
    "id": "0rROTNdZTmnx"
   },
   "outputs": [],
   "source": [
    "def missing_values_table(df):\n",
    "        # Total missing values\n",
    "        mis_val = df.isnull().sum()\n",
    "        \n",
    "        # Percentage of missing values\n",
    "        mis_val_percent = 100 * df.isnull().sum() / len(df)\n",
    "        \n",
    "        # Make a table with the results\n",
    "        mis_val_table = pd.concat([mis_val, mis_val_percent], axis=1)\n",
    "        \n",
    "        # Rename the columns\n",
    "        mis_val_table_ren_columns = mis_val_table.rename(\n",
    "        columns = {0 : 'Missing Values', 1 : '% of Total Values'})\n",
    "        \n",
    "        # Sort the table by percentage of missing descending\n",
    "        mis_val_table_ren_columns = mis_val_table_ren_columns[\n",
    "            mis_val_table_ren_columns.iloc[:,1] != 0].sort_values(\n",
    "        '% of Total Values', ascending=False).round(1)\n",
    "        \n",
    "        # Print some summary information\n",
    "        print (\"Your selected dataframe has \" + str(df.shape[1]) + \" columns.\\n\"      \n",
    "            \"There are \" + str(mis_val_table_ren_columns.shape[0]) +\n",
    "              \" columns that have missing values.\")\n",
    "        \n",
    "        # Return the dataframe with missing information\n",
    "        return mis_val_table_ren_columns  "
   ]
  },
  {
   "cell_type": "code",
   "execution_count": 37,
   "metadata": {
    "colab": {
     "base_uri": "https://localhost:8080/",
     "height": 83
    },
    "colab_type": "code",
    "id": "jhiPkImqTmn0",
    "outputId": "ef5b74d9-5a13-4651-82bb-1ae9823d6122"
   },
   "outputs": [
    {
     "name": "stdout",
     "output_type": "stream",
     "text": [
      "Your selected dataframe has 24 columns.\n",
      "There are 0 columns that have missing values.\n"
     ]
    },
    {
     "data": {
      "text/html": [
       "<div>\n",
       "<style scoped>\n",
       "    .dataframe tbody tr th:only-of-type {\n",
       "        vertical-align: middle;\n",
       "    }\n",
       "\n",
       "    .dataframe tbody tr th {\n",
       "        vertical-align: top;\n",
       "    }\n",
       "\n",
       "    .dataframe thead th {\n",
       "        text-align: right;\n",
       "    }\n",
       "</style>\n",
       "<table border=\"1\" class=\"dataframe\">\n",
       "  <thead>\n",
       "    <tr style=\"text-align: right;\">\n",
       "      <th></th>\n",
       "      <th>Missing Values</th>\n",
       "      <th>% of Total Values</th>\n",
       "    </tr>\n",
       "  </thead>\n",
       "  <tbody>\n",
       "  </tbody>\n",
       "</table>\n",
       "</div>"
      ],
      "text/plain": [
       "Empty DataFrame\n",
       "Columns: [Missing Values, % of Total Values]\n",
       "Index: []"
      ]
     },
     "execution_count": 37,
     "metadata": {
      "tags": []
     },
     "output_type": "execute_result"
    }
   ],
   "source": [
    "missing_values_table(big_df)"
   ]
  },
  {
   "cell_type": "code",
   "execution_count": 38,
   "metadata": {
    "colab": {
     "base_uri": "https://localhost:8080/",
     "height": 510
    },
    "colab_type": "code",
    "id": "rLovtZcJsRDI",
    "outputId": "83310842-45c7-472f-ac80-22484ea4afe4"
   },
   "outputs": [
    {
     "name": "stdout",
     "output_type": "stream",
     "text": [
      "<class 'pandas.core.frame.DataFrame'>\n",
      "Int64Index: 51719 entries, 0 to 51733\n",
      "Data columns (total 24 columns):\n",
      "Origin            51719 non-null int64\n",
      "Destination       51719 non-null int64\n",
      "Total_Fare        51719 non-null float64\n",
      "Base_Fare         51719 non-null float64\n",
      "Fuel_Fare         51719 non-null float64\n",
      "Airways           51719 non-null int64\n",
      "Available         51719 non-null float64\n",
      "Duration          51719 non-null int64\n",
      "Class_Type        51719 non-null object\n",
      "Flight Number     51719 non-null object\n",
      "Flight Code       51719 non-null object\n",
      "FlightID          51719 non-null object\n",
      "Hopping           51719 non-null int64\n",
      "Date              51719 non-null int64\n",
      "Month             51719 non-null int64\n",
      "Year              51719 non-null int64\n",
      "Taken_Day         51719 non-null int64\n",
      "Days_To_Dept      51719 non-null int64\n",
      "Arrival_Hour      51719 non-null int64\n",
      "Arrival_Minute    51719 non-null int64\n",
      "Dep_Hour          51719 non-null int64\n",
      "Dep_Minute        51719 non-null int64\n",
      "Session           51719 non-null int64\n",
      "FlightGroup       51719 non-null int64\n",
      "dtypes: float64(4), int64(16), object(4)\n",
      "memory usage: 9.9+ MB\n"
     ]
    }
   ],
   "source": [
    "big_df.info()"
   ]
  },
  {
   "cell_type": "code",
   "execution_count": 0,
   "metadata": {
    "colab": {},
    "colab_type": "code",
    "id": "i0BBmP06excr"
   },
   "outputs": [],
   "source": [
    "big_df.drop(columns=['Base_Fare','Fuel_Fare'],axis=1,inplace=True)"
   ]
  },
  {
   "cell_type": "code",
   "execution_count": 40,
   "metadata": {
    "colab": {
     "base_uri": "https://localhost:8080/",
     "height": 476
    },
    "colab_type": "code",
    "id": "GyAF0dZWh7jb",
    "outputId": "22464a2c-ce8c-40f4-9f36-64208514d890"
   },
   "outputs": [
    {
     "name": "stdout",
     "output_type": "stream",
     "text": [
      "<class 'pandas.core.frame.DataFrame'>\n",
      "Int64Index: 51719 entries, 0 to 51733\n",
      "Data columns (total 22 columns):\n",
      "Origin            51719 non-null int64\n",
      "Destination       51719 non-null int64\n",
      "Total_Fare        51719 non-null float64\n",
      "Airways           51719 non-null int64\n",
      "Available         51719 non-null float64\n",
      "Duration          51719 non-null int64\n",
      "Class_Type        51719 non-null object\n",
      "Flight Number     51719 non-null object\n",
      "Flight Code       51719 non-null object\n",
      "FlightID          51719 non-null object\n",
      "Hopping           51719 non-null int64\n",
      "Date              51719 non-null int64\n",
      "Month             51719 non-null int64\n",
      "Year              51719 non-null int64\n",
      "Taken_Day         51719 non-null int64\n",
      "Days_To_Dept      51719 non-null int64\n",
      "Arrival_Hour      51719 non-null int64\n",
      "Arrival_Minute    51719 non-null int64\n",
      "Dep_Hour          51719 non-null int64\n",
      "Dep_Minute        51719 non-null int64\n",
      "Session           51719 non-null int64\n",
      "FlightGroup       51719 non-null int64\n",
      "dtypes: float64(2), int64(16), object(4)\n",
      "memory usage: 9.1+ MB\n"
     ]
    }
   ],
   "source": [
    "big_df.info()"
   ]
  },
  {
   "cell_type": "code",
   "execution_count": 41,
   "metadata": {
    "colab": {
     "base_uri": "https://localhost:8080/",
     "height": 476
    },
    "colab_type": "code",
    "id": "S3taQ6TkTmn4",
    "outputId": "0c0c10f7-c853-4b74-a6c7-59e548863604"
   },
   "outputs": [
    {
     "name": "stdout",
     "output_type": "stream",
     "text": [
      "<class 'pandas.core.frame.DataFrame'>\n",
      "Int64Index: 10683 entries, 0 to 10683\n",
      "Data columns (total 22 columns):\n",
      "Origin            10683 non-null int64\n",
      "Destination       10683 non-null int64\n",
      "Total_Fare        10683 non-null float64\n",
      "Airways           10683 non-null int64\n",
      "Available         10683 non-null float64\n",
      "Duration          10683 non-null int64\n",
      "Class_Type        10683 non-null object\n",
      "Flight Number     10683 non-null object\n",
      "Flight Code       10683 non-null object\n",
      "FlightID          10683 non-null object\n",
      "Hopping           10683 non-null int64\n",
      "Date              10683 non-null int64\n",
      "Month             10683 non-null int64\n",
      "Year              10683 non-null int64\n",
      "Taken_Day         10683 non-null int64\n",
      "Days_To_Dept      10683 non-null int64\n",
      "Arrival_Hour      10683 non-null int64\n",
      "Arrival_Minute    10683 non-null int64\n",
      "Dep_Hour          10683 non-null int64\n",
      "Dep_Minute        10683 non-null int64\n",
      "Session           10683 non-null int64\n",
      "FlightGroup       10683 non-null int64\n",
      "dtypes: float64(2), int64(16), object(4)\n",
      "memory usage: 1.9+ MB\n"
     ]
    }
   ],
   "source": [
    "df_train = big_df[0:10683]\n",
    "df_test = big_df[10683:]\n",
    "df_test = df_test.drop(['Total_Fare'], axis =1)\n",
    "df_train.info()"
   ]
  },
  {
   "cell_type": "code",
   "execution_count": 0,
   "metadata": {
    "colab": {},
    "colab_type": "code",
    "id": "ikTUN552Tmn8"
   },
   "outputs": [],
   "source": [
    "X = df_train.drop(axis=1,columns=['Class_Type','Flight Number','Flight Code','FlightID'])\n",
    "y = df_train.Total_Fare"
   ]
  },
  {
   "cell_type": "code",
   "execution_count": 0,
   "metadata": {
    "colab": {},
    "colab_type": "code",
    "id": "w1-OLF-fTmoB"
   },
   "outputs": [],
   "source": [
    "from sklearn.model_selection import train_test_split\n",
    "X_train, X_test, y_train, y_test = train_test_split(X, y, test_size=0.3, random_state=123)"
   ]
  },
  {
   "cell_type": "code",
   "execution_count": 0,
   "metadata": {
    "colab": {
     "base_uri": "https://localhost:8080/",
     "height": 367
    },
    "colab_type": "code",
    "id": "L_9cS39ATmoF",
    "outputId": "d24bce3d-c5ba-4272-bf1a-87059032a13e"
   },
   "outputs": [
    {
     "data": {
      "text/html": [
       "<img src=\"http://i.imgur.com/QBuDOjs.jpg\"/>"
      ],
      "text/plain": [
       "<IPython.core.display.Image object>"
      ]
     },
     "execution_count": 57,
     "metadata": {
      "tags": []
     },
     "output_type": "execute_result"
    }
   ],
   "source": [
    "from IPython.display import Image\n",
    "from IPython.core.display import HTML \n",
    "Image(url = \"http://i.imgur.com/QBuDOjs.jpg\")"
   ]
  },
  {
   "cell_type": "code",
   "execution_count": 44,
   "metadata": {
    "colab": {
     "base_uri": "https://localhost:8080/",
     "height": 102
    },
    "colab_type": "code",
    "id": "-plaYpASs5Nk",
    "outputId": "4b957ca0-385b-4a76-9992-5cfeea94892d"
   },
   "outputs": [
    {
     "name": "stderr",
     "output_type": "stream",
     "text": [
      "/usr/local/lib/python3.6/dist-packages/pandas/core/frame.py:3940: SettingWithCopyWarning: \n",
      "A value is trying to be set on a copy of a slice from a DataFrame\n",
      "\n",
      "See the caveats in the documentation: http://pandas.pydata.org/pandas-docs/stable/indexing.html#indexing-view-versus-copy\n",
      "  errors=errors)\n"
     ]
    }
   ],
   "source": [
    "df_train.drop(axis=1,columns=['Class_Type','Flight Number','Flight Code','FlightID'],inplace=True)"
   ]
  },
  {
   "cell_type": "code",
   "execution_count": 45,
   "metadata": {
    "colab": {
     "base_uri": "https://localhost:8080/",
     "height": 34
    },
    "colab_type": "code",
    "id": "Cgmhc5YeTmoP",
    "outputId": "628350a6-f06a-496b-d2a3-54c72f36efae"
   },
   "outputs": [
    {
     "data": {
      "text/plain": [
       "5.9938736660913136e-12"
      ]
     },
     "execution_count": 45,
     "metadata": {
      "tags": []
     },
     "output_type": "execute_result"
    }
   ],
   "source": [
    "# # LINEAR REGRESSION\n",
    "\n",
    "# In[55]:\n",
    "\n",
    "\n",
    "#Build our model method\n",
    "lm = LinearRegression()\n",
    "\n",
    "\n",
    "# In[119]:\n",
    "\n",
    "\n",
    "#Build our cross validation method\n",
    "kfolds = KFold(n_splits=50,shuffle=True, random_state=100)\n",
    "\n",
    "\n",
    "# In[120]:\n",
    "\n",
    "\n",
    "def cv_rmse(model):\n",
    "    rmse = np.sqrt(-cross_val_score(model, X, y, \n",
    "                                   scoring=\"neg_mean_squared_error\", \n",
    "                                   cv = kfolds))\n",
    "    return(rmse)\n",
    "\n",
    "\n",
    "# In[121]:\n",
    "\n",
    "\n",
    "benchmark_model = make_pipeline(RobustScaler(),\n",
    "                                lm).fit(X=X_train, y=y_train)\n",
    "cv_rmse(benchmark_model).mean()"
   ]
  },
  {
   "cell_type": "code",
   "execution_count": 0,
   "metadata": {
    "colab": {},
    "colab_type": "code",
    "id": "-RMeI8IDTmoY"
   },
   "outputs": [],
   "source": [
    "from sklearn.linear_model import RidgeCV\n",
    "\n",
    "def ridge_selector(k):\n",
    "    ridge_model = make_pipeline(RobustScaler(),\n",
    "                                RidgeCV(alphas = [k],\n",
    "                                        cv=kfolds)).fit(X_train, y_train)\n",
    "    \n",
    "    ridge_rmse = cv_rmse(ridge_model).mean()\n",
    "    return(ridge_rmse)\n",
    "\n",
    "\n",
    "# In[123]:\n",
    "\n",
    "\n",
    "r_alphas = [.0001, .0003, .0005, .0007, .0009, \n",
    "          .01, 0.05, 0.1, 0.3, 1, 3, 5, 10, 15, 20, 30, 50, 60, 70, 80]\n",
    "\n",
    "ridge_scores = []\n",
    "for alpha in r_alphas:\n",
    "    score = ridge_selector(alpha)\n",
    "    ridge_scores.append(score)"
   ]
  },
  {
   "cell_type": "code",
   "execution_count": 47,
   "metadata": {
    "colab": {
     "base_uri": "https://localhost:8080/",
     "height": 300
    },
    "colab_type": "code",
    "id": "LmNtL1NRTmob",
    "outputId": "e7c73ea4-d825-47b6-a016-936ac940610e"
   },
   "outputs": [
    {
     "data": {
      "text/plain": [
       "Text(0, 0.5, 'score')"
      ]
     },
     "execution_count": 47,
     "metadata": {
      "tags": []
     },
     "output_type": "execute_result"
    },
    {
     "data": {
      "image/png": "[encoded data removed]",
      "text/plain": [
       "<Figure size 432x288 with 1 Axes>"
      ]
     },
     "metadata": {
      "tags": []
     },
     "output_type": "display_data"
    }
   ],
   "source": [
    "plt.plot(r_alphas, ridge_scores, label='Ridge')\n",
    "plt.legend('center')\n",
    "plt.xlabel('alpha')\n",
    "plt.ylabel('score')"
   ]
  },
  {
   "cell_type": "code",
   "execution_count": 48,
   "metadata": {
    "colab": {
     "base_uri": "https://localhost:8080/",
     "height": 669
    },
    "colab_type": "code",
    "id": "9-bup49PTmof",
    "outputId": "758f440c-be1f-4651-ddc4-820f43c6eb95"
   },
   "outputs": [
    {
     "data": {
      "text/html": [
       "<div>\n",
       "<style scoped>\n",
       "    .dataframe tbody tr th:only-of-type {\n",
       "        vertical-align: middle;\n",
       "    }\n",
       "\n",
       "    .dataframe tbody tr th {\n",
       "        vertical-align: top;\n",
       "    }\n",
       "\n",
       "    .dataframe thead th {\n",
       "        text-align: right;\n",
       "    }\n",
       "</style>\n",
       "<table border=\"1\" class=\"dataframe\">\n",
       "  <thead>\n",
       "    <tr style=\"text-align: right;\">\n",
       "      <th></th>\n",
       "      <th>RMSE</th>\n",
       "    </tr>\n",
       "  </thead>\n",
       "  <tbody>\n",
       "    <tr>\n",
       "      <th>0.0001</th>\n",
       "      <td>0.000064</td>\n",
       "    </tr>\n",
       "    <tr>\n",
       "      <th>0.0003</th>\n",
       "      <td>0.000190</td>\n",
       "    </tr>\n",
       "    <tr>\n",
       "      <th>0.0005</th>\n",
       "      <td>0.000317</td>\n",
       "    </tr>\n",
       "    <tr>\n",
       "      <th>0.0007</th>\n",
       "      <td>0.000443</td>\n",
       "    </tr>\n",
       "    <tr>\n",
       "      <th>0.0009</th>\n",
       "      <td>0.000569</td>\n",
       "    </tr>\n",
       "    <tr>\n",
       "      <th>0.0100</th>\n",
       "      <td>0.006293</td>\n",
       "    </tr>\n",
       "    <tr>\n",
       "      <th>0.0500</th>\n",
       "      <td>0.031455</td>\n",
       "    </tr>\n",
       "    <tr>\n",
       "      <th>0.1000</th>\n",
       "      <td>0.062907</td>\n",
       "    </tr>\n",
       "    <tr>\n",
       "      <th>0.3000</th>\n",
       "      <td>0.188693</td>\n",
       "    </tr>\n",
       "    <tr>\n",
       "      <th>1.0000</th>\n",
       "      <td>0.628666</td>\n",
       "    </tr>\n",
       "    <tr>\n",
       "      <th>3.0000</th>\n",
       "      <td>1.883367</td>\n",
       "    </tr>\n",
       "    <tr>\n",
       "      <th>5.0000</th>\n",
       "      <td>3.134620</td>\n",
       "    </tr>\n",
       "    <tr>\n",
       "      <th>10.0000</th>\n",
       "      <td>6.248088</td>\n",
       "    </tr>\n",
       "    <tr>\n",
       "      <th>15.0000</th>\n",
       "      <td>9.341329</td>\n",
       "    </tr>\n",
       "    <tr>\n",
       "      <th>20.0000</th>\n",
       "      <td>12.415141</td>\n",
       "    </tr>\n",
       "    <tr>\n",
       "      <th>30.0000</th>\n",
       "      <td>18.507220</td>\n",
       "    </tr>\n",
       "    <tr>\n",
       "      <th>50.0000</th>\n",
       "      <td>30.484815</td>\n",
       "    </tr>\n",
       "    <tr>\n",
       "      <th>60.0000</th>\n",
       "      <td>36.377701</td>\n",
       "    </tr>\n",
       "    <tr>\n",
       "      <th>70.0000</th>\n",
       "      <td>42.210759</td>\n",
       "    </tr>\n",
       "    <tr>\n",
       "      <th>80.0000</th>\n",
       "      <td>47.986648</td>\n",
       "    </tr>\n",
       "  </tbody>\n",
       "</table>\n",
       "</div>"
      ],
      "text/plain": [
       "              RMSE\n",
       "0.0001    0.000064\n",
       "0.0003    0.000190\n",
       "0.0005    0.000317\n",
       "0.0007    0.000443\n",
       "0.0009    0.000569\n",
       "0.0100    0.006293\n",
       "0.0500    0.031455\n",
       "0.1000    0.062907\n",
       "0.3000    0.188693\n",
       "1.0000    0.628666\n",
       "3.0000    1.883367\n",
       "5.0000    3.134620\n",
       "10.0000   6.248088\n",
       "15.0000   9.341329\n",
       "20.0000  12.415141\n",
       "30.0000  18.507220\n",
       "50.0000  30.484815\n",
       "60.0000  36.377701\n",
       "70.0000  42.210759\n",
       "80.0000  47.986648"
      ]
     },
     "execution_count": 48,
     "metadata": {
      "tags": []
     },
     "output_type": "execute_result"
    }
   ],
   "source": [
    "ridge_score_table = pd.DataFrame(ridge_scores, r_alphas, columns=['RMSE'])\n",
    "ridge_score_table"
   ]
  },
  {
   "cell_type": "code",
   "execution_count": 49,
   "metadata": {
    "colab": {
     "base_uri": "https://localhost:8080/",
     "height": 34
    },
    "colab_type": "code",
    "id": "3SB8q6t-Tmol",
    "outputId": "418072b3-60e9-4cc7-b313-5d1851945dd1"
   },
   "outputs": [
    {
     "data": {
      "text/plain": [
       "9.032891519827787"
      ]
     },
     "execution_count": 49,
     "metadata": {
      "tags": []
     },
     "output_type": "execute_result"
    }
   ],
   "source": [
    "alphas_alt = [14.5, 14.6, 14.7, 14.8, 14.9, 15, 15.1, 15.2, 15.3, 15.4, 15.5]\n",
    "\n",
    "ridge_model2 = make_pipeline(RobustScaler(),\n",
    "                            RidgeCV(alphas = alphas_alt,\n",
    "                                    cv=kfolds)).fit(X_train, y_train)\n",
    "\n",
    "cv_rmse(ridge_model2).mean()"
   ]
  },
  {
   "cell_type": "code",
   "execution_count": 0,
   "metadata": {
    "colab": {},
    "colab_type": "code",
    "id": "Yc8kwuX1Tmop"
   },
   "outputs": [],
   "source": [
    "# # Lasso Regression\n",
    "\n",
    "# In[125]:\n",
    "\n",
    "\n",
    "alphas = [0.00005, 0.0001, 0.0003, 0.0005, 0.0007, \n",
    "          0.0009, 0.01]\n",
    "alphas2 = [0.00005, 0.0001, 0.0002, 0.0003, 0.0004, 0.0005,\n",
    "           0.0006, 0.0007, 0.0008]"
   ]
  },
  {
   "cell_type": "code",
   "execution_count": 51,
   "metadata": {
    "colab": {
     "base_uri": "https://localhost:8080/",
     "height": 71
    },
    "colab_type": "code",
    "id": "_j4JrRQQTmos",
    "outputId": "604205dc-520a-48b7-ffc7-373c0ddcd828"
   },
   "outputs": [
    {
     "name": "stderr",
     "output_type": "stream",
     "text": [
      "/usr/local/lib/python3.6/dist-packages/sklearn/model_selection/_split.py:2053: FutureWarning: You should specify a value for 'cv' instead of relying on the default value. The default value will change from 3 to 5 in version 0.22.\n",
      "  warnings.warn(CV_WARNING, FutureWarning)\n"
     ]
    }
   ],
   "source": [
    "lasso_model2 = make_pipeline(RobustScaler(),\n",
    "                             LassoCV(max_iter=1e7,\n",
    "                                    alphas = alphas2,\n",
    "                                    random_state = 42)).fit(X_train, y_train)"
   ]
  },
  {
   "cell_type": "code",
   "execution_count": 52,
   "metadata": {
    "colab": {
     "base_uri": "https://localhost:8080/",
     "height": 297
    },
    "colab_type": "code",
    "id": "cw-BzxiGTmow",
    "outputId": "a5f84d04-e7b9-40af-d8a3-e2ce13c15abd"
   },
   "outputs": [
    {
     "data": {
      "image/png": "[encoded data removed]",
      "text/plain": [
       "<Figure size 432x288 with 1 Axes>"
      ]
     },
     "metadata": {
      "tags": []
     },
     "output_type": "display_data"
    }
   ],
   "source": [
    "scores = lasso_model2.steps[1][1].mse_path_\n",
    "\n",
    "plt.plot(alphas2, scores, label='Lasso')\n",
    "plt.legend(loc='center')\n",
    "plt.xlabel('alpha')\n",
    "plt.ylabel('RMSE')\n",
    "plt.tight_layout()\n",
    "plt.show()"
   ]
  },
  {
   "cell_type": "code",
   "execution_count": 53,
   "metadata": {
    "colab": {
     "base_uri": "https://localhost:8080/",
     "height": 1754
    },
    "colab_type": "code",
    "id": "PryADqzyTmo4",
    "outputId": "c7a7cd58-12c1-4ef9-ef03-c645838429cc"
   },
   "outputs": [
    {
     "name": "stderr",
     "output_type": "stream",
     "text": [
      "/usr/local/lib/python3.6/dist-packages/sklearn/model_selection/_split.py:2053: FutureWarning: You should specify a value for 'cv' instead of relying on the default value. The default value will change from 3 to 5 in version 0.22.\n",
      "  warnings.warn(CV_WARNING, FutureWarning)\n",
      "/usr/local/lib/python3.6/dist-packages/sklearn/model_selection/_split.py:2053: FutureWarning: You should specify a value for 'cv' instead of relying on the default value. The default value will change from 3 to 5 in version 0.22.\n",
      "  warnings.warn(CV_WARNING, FutureWarning)\n",
      "/usr/local/lib/python3.6/dist-packages/sklearn/model_selection/_split.py:2053: FutureWarning: You should specify a value for 'cv' instead of relying on the default value. The default value will change from 3 to 5 in version 0.22.\n",
      "  warnings.warn(CV_WARNING, FutureWarning)\n",
      "/usr/local/lib/python3.6/dist-packages/sklearn/model_selection/_split.py:2053: FutureWarning: You should specify a value for 'cv' instead of relying on the default value. The default value will change from 3 to 5 in version 0.22.\n",
      "  warnings.warn(CV_WARNING, FutureWarning)\n",
      "/usr/local/lib/python3.6/dist-packages/sklearn/model_selection/_split.py:2053: FutureWarning: You should specify a value for 'cv' instead of relying on the default value. The default value will change from 3 to 5 in version 0.22.\n",
      "  warnings.warn(CV_WARNING, FutureWarning)\n",
      "/usr/local/lib/python3.6/dist-packages/sklearn/model_selection/_split.py:2053: FutureWarning: You should specify a value for 'cv' instead of relying on the default value. The default value will change from 3 to 5 in version 0.22.\n",
      "  warnings.warn(CV_WARNING, FutureWarning)\n",
      "/usr/local/lib/python3.6/dist-packages/sklearn/model_selection/_split.py:2053: FutureWarning: You should specify a value for 'cv' instead of relying on the default value. The default value will change from 3 to 5 in version 0.22.\n",
      "  warnings.warn(CV_WARNING, FutureWarning)\n",
      "/usr/local/lib/python3.6/dist-packages/sklearn/model_selection/_split.py:2053: FutureWarning: You should specify a value for 'cv' instead of relying on the default value. The default value will change from 3 to 5 in version 0.22.\n",
      "  warnings.warn(CV_WARNING, FutureWarning)\n",
      "/usr/local/lib/python3.6/dist-packages/sklearn/model_selection/_split.py:2053: FutureWarning: You should specify a value for 'cv' instead of relying on the default value. The default value will change from 3 to 5 in version 0.22.\n",
      "  warnings.warn(CV_WARNING, FutureWarning)\n",
      "/usr/local/lib/python3.6/dist-packages/sklearn/model_selection/_split.py:2053: FutureWarning: You should specify a value for 'cv' instead of relying on the default value. The default value will change from 3 to 5 in version 0.22.\n",
      "  warnings.warn(CV_WARNING, FutureWarning)\n",
      "/usr/local/lib/python3.6/dist-packages/sklearn/model_selection/_split.py:2053: FutureWarning: You should specify a value for 'cv' instead of relying on the default value. The default value will change from 3 to 5 in version 0.22.\n",
      "  warnings.warn(CV_WARNING, FutureWarning)\n",
      "/usr/local/lib/python3.6/dist-packages/sklearn/model_selection/_split.py:2053: FutureWarning: You should specify a value for 'cv' instead of relying on the default value. The default value will change from 3 to 5 in version 0.22.\n",
      "  warnings.warn(CV_WARNING, FutureWarning)\n",
      "/usr/local/lib/python3.6/dist-packages/sklearn/model_selection/_split.py:2053: FutureWarning: You should specify a value for 'cv' instead of relying on the default value. The default value will change from 3 to 5 in version 0.22.\n",
      "  warnings.warn(CV_WARNING, FutureWarning)\n",
      "/usr/local/lib/python3.6/dist-packages/sklearn/model_selection/_split.py:2053: FutureWarning: You should specify a value for 'cv' instead of relying on the default value. The default value will change from 3 to 5 in version 0.22.\n",
      "  warnings.warn(CV_WARNING, FutureWarning)\n",
      "/usr/local/lib/python3.6/dist-packages/sklearn/model_selection/_split.py:2053: FutureWarning: You should specify a value for 'cv' instead of relying on the default value. The default value will change from 3 to 5 in version 0.22.\n",
      "  warnings.warn(CV_WARNING, FutureWarning)\n",
      "/usr/local/lib/python3.6/dist-packages/sklearn/model_selection/_split.py:2053: FutureWarning: You should specify a value for 'cv' instead of relying on the default value. The default value will change from 3 to 5 in version 0.22.\n",
      "  warnings.warn(CV_WARNING, FutureWarning)\n",
      "/usr/local/lib/python3.6/dist-packages/sklearn/model_selection/_split.py:2053: FutureWarning: You should specify a value for 'cv' instead of relying on the default value. The default value will change from 3 to 5 in version 0.22.\n",
      "  warnings.warn(CV_WARNING, FutureWarning)\n",
      "/usr/local/lib/python3.6/dist-packages/sklearn/model_selection/_split.py:2053: FutureWarning: You should specify a value for 'cv' instead of relying on the default value. The default value will change from 3 to 5 in version 0.22.\n",
      "  warnings.warn(CV_WARNING, FutureWarning)\n",
      "/usr/local/lib/python3.6/dist-packages/sklearn/model_selection/_split.py:2053: FutureWarning: You should specify a value for 'cv' instead of relying on the default value. The default value will change from 3 to 5 in version 0.22.\n",
      "  warnings.warn(CV_WARNING, FutureWarning)\n",
      "/usr/local/lib/python3.6/dist-packages/sklearn/model_selection/_split.py:2053: FutureWarning: You should specify a value for 'cv' instead of relying on the default value. The default value will change from 3 to 5 in version 0.22.\n",
      "  warnings.warn(CV_WARNING, FutureWarning)\n",
      "/usr/local/lib/python3.6/dist-packages/sklearn/model_selection/_split.py:2053: FutureWarning: You should specify a value for 'cv' instead of relying on the default value. The default value will change from 3 to 5 in version 0.22.\n",
      "  warnings.warn(CV_WARNING, FutureWarning)\n",
      "/usr/local/lib/python3.6/dist-packages/sklearn/model_selection/_split.py:2053: FutureWarning: You should specify a value for 'cv' instead of relying on the default value. The default value will change from 3 to 5 in version 0.22.\n",
      "  warnings.warn(CV_WARNING, FutureWarning)\n",
      "/usr/local/lib/python3.6/dist-packages/sklearn/model_selection/_split.py:2053: FutureWarning: You should specify a value for 'cv' instead of relying on the default value. The default value will change from 3 to 5 in version 0.22.\n",
      "  warnings.warn(CV_WARNING, FutureWarning)\n",
      "/usr/local/lib/python3.6/dist-packages/sklearn/model_selection/_split.py:2053: FutureWarning: You should specify a value for 'cv' instead of relying on the default value. The default value will change from 3 to 5 in version 0.22.\n",
      "  warnings.warn(CV_WARNING, FutureWarning)\n",
      "/usr/local/lib/python3.6/dist-packages/sklearn/model_selection/_split.py:2053: FutureWarning: You should specify a value for 'cv' instead of relying on the default value. The default value will change from 3 to 5 in version 0.22.\n",
      "  warnings.warn(CV_WARNING, FutureWarning)\n",
      "/usr/local/lib/python3.6/dist-packages/sklearn/model_selection/_split.py:2053: FutureWarning: You should specify a value for 'cv' instead of relying on the default value. The default value will change from 3 to 5 in version 0.22.\n",
      "  warnings.warn(CV_WARNING, FutureWarning)\n",
      "/usr/local/lib/python3.6/dist-packages/sklearn/model_selection/_split.py:2053: FutureWarning: You should specify a value for 'cv' instead of relying on the default value. The default value will change from 3 to 5 in version 0.22.\n",
      "  warnings.warn(CV_WARNING, FutureWarning)\n",
      "/usr/local/lib/python3.6/dist-packages/sklearn/model_selection/_split.py:2053: FutureWarning: You should specify a value for 'cv' instead of relying on the default value. The default value will change from 3 to 5 in version 0.22.\n",
      "  warnings.warn(CV_WARNING, FutureWarning)\n",
      "/usr/local/lib/python3.6/dist-packages/sklearn/model_selection/_split.py:2053: FutureWarning: You should specify a value for 'cv' instead of relying on the default value. The default value will change from 3 to 5 in version 0.22.\n",
      "  warnings.warn(CV_WARNING, FutureWarning)\n",
      "/usr/local/lib/python3.6/dist-packages/sklearn/model_selection/_split.py:2053: FutureWarning: You should specify a value for 'cv' instead of relying on the default value. The default value will change from 3 to 5 in version 0.22.\n",
      "  warnings.warn(CV_WARNING, FutureWarning)\n",
      "/usr/local/lib/python3.6/dist-packages/sklearn/model_selection/_split.py:2053: FutureWarning: You should specify a value for 'cv' instead of relying on the default value. The default value will change from 3 to 5 in version 0.22.\n",
      "  warnings.warn(CV_WARNING, FutureWarning)\n",
      "/usr/local/lib/python3.6/dist-packages/sklearn/model_selection/_split.py:2053: FutureWarning: You should specify a value for 'cv' instead of relying on the default value. The default value will change from 3 to 5 in version 0.22.\n",
      "  warnings.warn(CV_WARNING, FutureWarning)\n",
      "/usr/local/lib/python3.6/dist-packages/sklearn/model_selection/_split.py:2053: FutureWarning: You should specify a value for 'cv' instead of relying on the default value. The default value will change from 3 to 5 in version 0.22.\n",
      "  warnings.warn(CV_WARNING, FutureWarning)\n",
      "/usr/local/lib/python3.6/dist-packages/sklearn/model_selection/_split.py:2053: FutureWarning: You should specify a value for 'cv' instead of relying on the default value. The default value will change from 3 to 5 in version 0.22.\n",
      "  warnings.warn(CV_WARNING, FutureWarning)\n",
      "/usr/local/lib/python3.6/dist-packages/sklearn/model_selection/_split.py:2053: FutureWarning: You should specify a value for 'cv' instead of relying on the default value. The default value will change from 3 to 5 in version 0.22.\n",
      "  warnings.warn(CV_WARNING, FutureWarning)\n",
      "/usr/local/lib/python3.6/dist-packages/sklearn/model_selection/_split.py:2053: FutureWarning: You should specify a value for 'cv' instead of relying on the default value. The default value will change from 3 to 5 in version 0.22.\n",
      "  warnings.warn(CV_WARNING, FutureWarning)\n",
      "/usr/local/lib/python3.6/dist-packages/sklearn/model_selection/_split.py:2053: FutureWarning: You should specify a value for 'cv' instead of relying on the default value. The default value will change from 3 to 5 in version 0.22.\n",
      "  warnings.warn(CV_WARNING, FutureWarning)\n",
      "/usr/local/lib/python3.6/dist-packages/sklearn/model_selection/_split.py:2053: FutureWarning: You should specify a value for 'cv' instead of relying on the default value. The default value will change from 3 to 5 in version 0.22.\n",
      "  warnings.warn(CV_WARNING, FutureWarning)\n",
      "/usr/local/lib/python3.6/dist-packages/sklearn/model_selection/_split.py:2053: FutureWarning: You should specify a value for 'cv' instead of relying on the default value. The default value will change from 3 to 5 in version 0.22.\n",
      "  warnings.warn(CV_WARNING, FutureWarning)\n",
      "/usr/local/lib/python3.6/dist-packages/sklearn/model_selection/_split.py:2053: FutureWarning: You should specify a value for 'cv' instead of relying on the default value. The default value will change from 3 to 5 in version 0.22.\n",
      "  warnings.warn(CV_WARNING, FutureWarning)\n",
      "/usr/local/lib/python3.6/dist-packages/sklearn/model_selection/_split.py:2053: FutureWarning: You should specify a value for 'cv' instead of relying on the default value. The default value will change from 3 to 5 in version 0.22.\n",
      "  warnings.warn(CV_WARNING, FutureWarning)\n",
      "/usr/local/lib/python3.6/dist-packages/sklearn/model_selection/_split.py:2053: FutureWarning: You should specify a value for 'cv' instead of relying on the default value. The default value will change from 3 to 5 in version 0.22.\n",
      "  warnings.warn(CV_WARNING, FutureWarning)\n",
      "/usr/local/lib/python3.6/dist-packages/sklearn/model_selection/_split.py:2053: FutureWarning: You should specify a value for 'cv' instead of relying on the default value. The default value will change from 3 to 5 in version 0.22.\n",
      "  warnings.warn(CV_WARNING, FutureWarning)\n",
      "/usr/local/lib/python3.6/dist-packages/sklearn/model_selection/_split.py:2053: FutureWarning: You should specify a value for 'cv' instead of relying on the default value. The default value will change from 3 to 5 in version 0.22.\n",
      "  warnings.warn(CV_WARNING, FutureWarning)\n",
      "/usr/local/lib/python3.6/dist-packages/sklearn/model_selection/_split.py:2053: FutureWarning: You should specify a value for 'cv' instead of relying on the default value. The default value will change from 3 to 5 in version 0.22.\n",
      "  warnings.warn(CV_WARNING, FutureWarning)\n",
      "/usr/local/lib/python3.6/dist-packages/sklearn/model_selection/_split.py:2053: FutureWarning: You should specify a value for 'cv' instead of relying on the default value. The default value will change from 3 to 5 in version 0.22.\n",
      "  warnings.warn(CV_WARNING, FutureWarning)\n",
      "/usr/local/lib/python3.6/dist-packages/sklearn/model_selection/_split.py:2053: FutureWarning: You should specify a value for 'cv' instead of relying on the default value. The default value will change from 3 to 5 in version 0.22.\n",
      "  warnings.warn(CV_WARNING, FutureWarning)\n",
      "/usr/local/lib/python3.6/dist-packages/sklearn/model_selection/_split.py:2053: FutureWarning: You should specify a value for 'cv' instead of relying on the default value. The default value will change from 3 to 5 in version 0.22.\n",
      "  warnings.warn(CV_WARNING, FutureWarning)\n",
      "/usr/local/lib/python3.6/dist-packages/sklearn/model_selection/_split.py:2053: FutureWarning: You should specify a value for 'cv' instead of relying on the default value. The default value will change from 3 to 5 in version 0.22.\n",
      "  warnings.warn(CV_WARNING, FutureWarning)\n",
      "/usr/local/lib/python3.6/dist-packages/sklearn/model_selection/_split.py:2053: FutureWarning: You should specify a value for 'cv' instead of relying on the default value. The default value will change from 3 to 5 in version 0.22.\n",
      "  warnings.warn(CV_WARNING, FutureWarning)\n"
     ]
    },
    {
     "data": {
      "text/plain": [
       "0.30268969135515517"
      ]
     },
     "execution_count": 53,
     "metadata": {
      "tags": []
     },
     "output_type": "execute_result"
    }
   ],
   "source": [
    "cv_rmse(lasso_model2).mean()"
   ]
  },
  {
   "cell_type": "code",
   "execution_count": 54,
   "metadata": {
    "colab": {
     "base_uri": "https://localhost:8080/",
     "height": 34
    },
    "colab_type": "code",
    "id": "TjJigF4-TmpD",
    "outputId": "f1e22b1b-446b-4bf1-d1ac-529e54a71e59"
   },
   "outputs": [
    {
     "data": {
      "text/plain": [
       "0.30238144230132846"
      ]
     },
     "execution_count": 54,
     "metadata": {
      "tags": []
     },
     "output_type": "execute_result"
    }
   ],
   "source": [
    "e_alphas = [0.0001, 0.0002, 0.0003, 0.0004, 0.0005, 0.0006, 0.0007]\n",
    "e_l1ratio = [0.8, 0.85, 0.9, 0.95, 0.99, 1]\n",
    "\n",
    "elastic_cv = make_pipeline(RobustScaler(), \n",
    "                           ElasticNetCV(max_iter=1e7, alphas=e_alphas, \n",
    "                                        cv=kfolds, l1_ratio=e_l1ratio))\n",
    "\n",
    "elastic_model3 = elastic_cv.fit(X_train, y_train)\n",
    "\n",
    "\n",
    "# In[128]:\n",
    "\n",
    "\n",
    "cv_rmse(elastic_model3).mean()"
   ]
  },
  {
   "cell_type": "code",
   "execution_count": 6,
   "metadata": {},
   "outputs": [
    {
     "ename": "ModuleNotFoundError",
     "evalue": "No module named 'xgboost'",
     "output_type": "error",
     "traceback": [
      "\u001b[1;31m---------------------------------------------------------------------------\u001b[0m",
      "\u001b[1;31mModuleNotFoundError\u001b[0m                       Traceback (most recent call last)",
      "\u001b[1;32m<ipython-input-6-9b276f7e2c7d>\u001b[0m in \u001b[0;36m<module>\u001b[1;34m()\u001b[0m\n\u001b[1;32m----> 1\u001b[1;33m \u001b[1;32mimport\u001b[0m \u001b[0mxgboost\u001b[0m \u001b[1;32mas\u001b[0m \u001b[0mxgb\u001b[0m\u001b[1;33m\u001b[0m\u001b[1;33m\u001b[0m\u001b[0m\n\u001b[0m\u001b[0;32m      2\u001b[0m \u001b[1;32mfrom\u001b[0m \u001b[0mxgboost\u001b[0m \u001b[1;32mimport\u001b[0m \u001b[0mXGBRegressor\u001b[0m\u001b[1;33m\u001b[0m\u001b[1;33m\u001b[0m\u001b[0m\n",
      "\u001b[1;31mModuleNotFoundError\u001b[0m: No module named 'xgboost'"
     ]
    }
   ],
   "source": [
    "import xgboost as xgb\n",
    "from xgboost import XGBRegressor"
   ]
  },
  {
   "cell_type": "code",
   "execution_count": 0,
   "metadata": {
    "colab": {},
    "colab_type": "code",
    "id": "sn6YhUPfTmpH"
   },
   "outputs": [],
   "source": [
    "from sklearn.model_selection import GridSearchCV\n",
    "from matplotlib.pylab import rcParams\n",
    "rcParams['figure.figsize'] = 12, 4\n",
    "get_ipython().run_line_magic('matplotlib', 'inline')\n",
    "import xgboost as xgb\n",
    "from xgboost import XGBRegressor"
   ]
  },
  {
   "cell_type": "code",
   "execution_count": 0,
   "metadata": {
    "colab": {},
    "colab_type": "code",
    "id": "79Zw0hZZTmpN"
   },
   "outputs": [],
   "source": [
    "def modelfit(alg, dtrain, target, useTrainCV=True, \n",
    "             cv_folds=5, early_stopping_rounds=50):\n",
    "    \n",
    "    if useTrainCV:\n",
    "        xgb_param = alg.get_xgb_params()\n",
    "        xgtrain = xgb.DMatrix(dtrain.values, \n",
    "                              label=y.values)\n",
    "        \n",
    "        print(\"\\nGetting Cross-validation result..\")\n",
    "        cvresult = xgb.cv(xgb_param, xgtrain, \n",
    "                          num_boost_round=alg.get_params()['n_estimators'], \n",
    "                          nfold=cv_folds,metrics='rmse', \n",
    "                          early_stopping_rounds=early_stopping_rounds,\n",
    "                          verbose_eval = True)\n",
    "        alg.set_params(n_estimators=cvresult.shape[0])\n",
    "    \n",
    "    #Fit the algorithm on the data\n",
    "    print(\"\\nFitting algorithm to data...\")\n",
    "    alg.fit(dtrain, target, eval_metric='rmse')\n",
    "        \n",
    "    #Predict training set:\n",
    "    print(\"\\nPredicting from training data...\")\n",
    "    dtrain_predictions = alg.predict(dtrain)\n",
    "        \n",
    "    #Print model report:\n",
    "    print(\"\\nModel Report\")\n",
    "    print(\"RMSE : %.4g\" % np.sqrt(mean_squared_error(target.values,\n",
    "                                             dtrain_predictions)))"
   ]
  },
  {
   "cell_type": "code",
   "execution_count": 57,
   "metadata": {
    "colab": {
     "base_uri": "https://localhost:8080/",
     "height": 1734
    },
    "colab_type": "code",
    "id": "kZqpnWjHTmpP",
    "outputId": "7a249a81-1c6d-4996-8ed5-c11eb88a2b29"
   },
   "outputs": [
    {
     "name": "stderr",
     "output_type": "stream",
     "text": [
      "/usr/local/lib/python3.6/dist-packages/xgboost/core.py:587: FutureWarning: Series.base is deprecated and will be removed in a future version\n",
      "  if getattr(data, 'base', None) is not None and \\\n",
      "/usr/local/lib/python3.6/dist-packages/xgboost/core.py:587: FutureWarning: Series.base is deprecated and will be removed in a future version\n",
      "  if getattr(data, 'base', None) is not None and \\\n",
      "/usr/local/lib/python3.6/dist-packages/xgboost/core.py:587: FutureWarning: Series.base is deprecated and will be removed in a future version\n",
      "  if getattr(data, 'base', None) is not None and \\\n",
      "/usr/local/lib/python3.6/dist-packages/xgboost/core.py:587: FutureWarning: Series.base is deprecated and will be removed in a future version\n",
      "  if getattr(data, 'base', None) is not None and \\\n",
      "/usr/local/lib/python3.6/dist-packages/xgboost/core.py:587: FutureWarning: Series.base is deprecated and will be removed in a future version\n",
      "  if getattr(data, 'base', None) is not None and \\\n",
      "/usr/local/lib/python3.6/dist-packages/xgboost/core.py:587: FutureWarning: Series.base is deprecated and will be removed in a future version\n",
      "  if getattr(data, 'base', None) is not None and \\\n",
      "/usr/local/lib/python3.6/dist-packages/xgboost/core.py:587: FutureWarning: Series.base is deprecated and will be removed in a future version\n",
      "  if getattr(data, 'base', None) is not None and \\\n",
      "/usr/local/lib/python3.6/dist-packages/xgboost/core.py:587: FutureWarning: Series.base is deprecated and will be removed in a future version\n",
      "  if getattr(data, 'base', None) is not None and \\\n",
      "/usr/local/lib/python3.6/dist-packages/xgboost/core.py:587: FutureWarning: Series.base is deprecated and will be removed in a future version\n",
      "  if getattr(data, 'base', None) is not None and \\\n",
      "/usr/local/lib/python3.6/dist-packages/xgboost/core.py:587: FutureWarning: Series.base is deprecated and will be removed in a future version\n",
      "  if getattr(data, 'base', None) is not None and \\\n",
      "/usr/local/lib/python3.6/dist-packages/xgboost/core.py:587: FutureWarning: Series.base is deprecated and will be removed in a future version\n",
      "  if getattr(data, 'base', None) is not None and \\\n",
      "/usr/local/lib/python3.6/dist-packages/xgboost/core.py:587: FutureWarning: Series.base is deprecated and will be removed in a future version\n",
      "  if getattr(data, 'base', None) is not None and \\\n",
      "/usr/local/lib/python3.6/dist-packages/xgboost/core.py:587: FutureWarning: Series.base is deprecated and will be removed in a future version\n",
      "  if getattr(data, 'base', None) is not None and \\\n",
      "/usr/local/lib/python3.6/dist-packages/xgboost/core.py:587: FutureWarning: Series.base is deprecated and will be removed in a future version\n",
      "  if getattr(data, 'base', None) is not None and \\\n",
      "/usr/local/lib/python3.6/dist-packages/xgboost/core.py:587: FutureWarning: Series.base is deprecated and will be removed in a future version\n",
      "  if getattr(data, 'base', None) is not None and \\\n",
      "/usr/local/lib/python3.6/dist-packages/xgboost/core.py:587: FutureWarning: Series.base is deprecated and will be removed in a future version\n",
      "  if getattr(data, 'base', None) is not None and \\\n",
      "/usr/local/lib/python3.6/dist-packages/xgboost/core.py:587: FutureWarning: Series.base is deprecated and will be removed in a future version\n",
      "  if getattr(data, 'base', None) is not None and \\\n",
      "/usr/local/lib/python3.6/dist-packages/xgboost/core.py:587: FutureWarning: Series.base is deprecated and will be removed in a future version\n",
      "  if getattr(data, 'base', None) is not None and \\\n",
      "/usr/local/lib/python3.6/dist-packages/xgboost/core.py:587: FutureWarning: Series.base is deprecated and will be removed in a future version\n",
      "  if getattr(data, 'base', None) is not None and \\\n",
      "/usr/local/lib/python3.6/dist-packages/xgboost/core.py:587: FutureWarning: Series.base is deprecated and will be removed in a future version\n",
      "  if getattr(data, 'base', None) is not None and \\\n",
      "/usr/local/lib/python3.6/dist-packages/xgboost/core.py:587: FutureWarning: Series.base is deprecated and will be removed in a future version\n",
      "  if getattr(data, 'base', None) is not None and \\\n",
      "/usr/local/lib/python3.6/dist-packages/xgboost/core.py:587: FutureWarning: Series.base is deprecated and will be removed in a future version\n",
      "  if getattr(data, 'base', None) is not None and \\\n",
      "/usr/local/lib/python3.6/dist-packages/xgboost/core.py:587: FutureWarning: Series.base is deprecated and will be removed in a future version\n",
      "  if getattr(data, 'base', None) is not None and \\\n",
      "/usr/local/lib/python3.6/dist-packages/xgboost/core.py:587: FutureWarning: Series.base is deprecated and will be removed in a future version\n",
      "  if getattr(data, 'base', None) is not None and \\\n",
      "/usr/local/lib/python3.6/dist-packages/xgboost/core.py:587: FutureWarning: Series.base is deprecated and will be removed in a future version\n",
      "  if getattr(data, 'base', None) is not None and \\\n",
      "/usr/local/lib/python3.6/dist-packages/xgboost/core.py:587: FutureWarning: Series.base is deprecated and will be removed in a future version\n",
      "  if getattr(data, 'base', None) is not None and \\\n",
      "/usr/local/lib/python3.6/dist-packages/xgboost/core.py:587: FutureWarning: Series.base is deprecated and will be removed in a future version\n",
      "  if getattr(data, 'base', None) is not None and \\\n",
      "/usr/local/lib/python3.6/dist-packages/xgboost/core.py:587: FutureWarning: Series.base is deprecated and will be removed in a future version\n",
      "  if getattr(data, 'base', None) is not None and \\\n",
      "/usr/local/lib/python3.6/dist-packages/xgboost/core.py:587: FutureWarning: Series.base is deprecated and will be removed in a future version\n",
      "  if getattr(data, 'base', None) is not None and \\\n",
      "/usr/local/lib/python3.6/dist-packages/xgboost/core.py:587: FutureWarning: Series.base is deprecated and will be removed in a future version\n",
      "  if getattr(data, 'base', None) is not None and \\\n",
      "/usr/local/lib/python3.6/dist-packages/xgboost/core.py:587: FutureWarning: Series.base is deprecated and will be removed in a future version\n",
      "  if getattr(data, 'base', None) is not None and \\\n",
      "/usr/local/lib/python3.6/dist-packages/xgboost/core.py:587: FutureWarning: Series.base is deprecated and will be removed in a future version\n",
      "  if getattr(data, 'base', None) is not None and \\\n",
      "/usr/local/lib/python3.6/dist-packages/xgboost/core.py:587: FutureWarning: Series.base is deprecated and will be removed in a future version\n",
      "  if getattr(data, 'base', None) is not None and \\\n",
      "/usr/local/lib/python3.6/dist-packages/xgboost/core.py:587: FutureWarning: Series.base is deprecated and will be removed in a future version\n",
      "  if getattr(data, 'base', None) is not None and \\\n",
      "/usr/local/lib/python3.6/dist-packages/xgboost/core.py:587: FutureWarning: Series.base is deprecated and will be removed in a future version\n",
      "  if getattr(data, 'base', None) is not None and \\\n",
      "/usr/local/lib/python3.6/dist-packages/xgboost/core.py:587: FutureWarning: Series.base is deprecated and will be removed in a future version\n",
      "  if getattr(data, 'base', None) is not None and \\\n",
      "/usr/local/lib/python3.6/dist-packages/xgboost/core.py:587: FutureWarning: Series.base is deprecated and will be removed in a future version\n",
      "  if getattr(data, 'base', None) is not None and \\\n",
      "/usr/local/lib/python3.6/dist-packages/xgboost/core.py:587: FutureWarning: Series.base is deprecated and will be removed in a future version\n",
      "  if getattr(data, 'base', None) is not None and \\\n",
      "/usr/local/lib/python3.6/dist-packages/xgboost/core.py:587: FutureWarning: Series.base is deprecated and will be removed in a future version\n",
      "  if getattr(data, 'base', None) is not None and \\\n",
      "/usr/local/lib/python3.6/dist-packages/xgboost/core.py:587: FutureWarning: Series.base is deprecated and will be removed in a future version\n",
      "  if getattr(data, 'base', None) is not None and \\\n",
      "/usr/local/lib/python3.6/dist-packages/xgboost/core.py:587: FutureWarning: Series.base is deprecated and will be removed in a future version\n",
      "  if getattr(data, 'base', None) is not None and \\\n",
      "/usr/local/lib/python3.6/dist-packages/xgboost/core.py:587: FutureWarning: Series.base is deprecated and will be removed in a future version\n",
      "  if getattr(data, 'base', None) is not None and \\\n",
      "/usr/local/lib/python3.6/dist-packages/xgboost/core.py:587: FutureWarning: Series.base is deprecated and will be removed in a future version\n",
      "  if getattr(data, 'base', None) is not None and \\\n",
      "/usr/local/lib/python3.6/dist-packages/xgboost/core.py:587: FutureWarning: Series.base is deprecated and will be removed in a future version\n",
      "  if getattr(data, 'base', None) is not None and \\\n",
      "/usr/local/lib/python3.6/dist-packages/xgboost/core.py:587: FutureWarning: Series.base is deprecated and will be removed in a future version\n",
      "  if getattr(data, 'base', None) is not None and \\\n",
      "/usr/local/lib/python3.6/dist-packages/xgboost/core.py:587: FutureWarning: Series.base is deprecated and will be removed in a future version\n",
      "  if getattr(data, 'base', None) is not None and \\\n",
      "/usr/local/lib/python3.6/dist-packages/xgboost/core.py:587: FutureWarning: Series.base is deprecated and will be removed in a future version\n",
      "  if getattr(data, 'base', None) is not None and \\\n",
      "/usr/local/lib/python3.6/dist-packages/xgboost/core.py:587: FutureWarning: Series.base is deprecated and will be removed in a future version\n",
      "  if getattr(data, 'base', None) is not None and \\\n",
      "/usr/local/lib/python3.6/dist-packages/xgboost/core.py:587: FutureWarning: Series.base is deprecated and will be removed in a future version\n",
      "  if getattr(data, 'base', None) is not None and \\\n",
      "/usr/local/lib/python3.6/dist-packages/xgboost/core.py:587: FutureWarning: Series.base is deprecated and will be removed in a future version\n",
      "  if getattr(data, 'base', None) is not None and \\\n"
     ]
    },
    {
     "data": {
      "text/plain": [
       "172.6458142566444"
      ]
     },
     "execution_count": 57,
     "metadata": {
      "tags": []
     },
     "output_type": "execute_result"
    }
   ],
   "source": [
    "xgb3 = XGBRegressor(learning_rate =0.1, n_estimators=200, max_depth=10,\n",
    "                     min_child_weight=5 ,gamma=0, subsample=0.7,max_bin=20,\n",
    "                     colsample_bytree=0.8,objective= 'reg:linear',\n",
    "                     nthread=4,scale_pos_weight=1,seed=27, reg_alpha=0.00006)\n",
    "\n",
    "xgb_fit = xgb3.fit(X_train, y_train)\n",
    "\n",
    "\n",
    "# In[203]:\n",
    "\n",
    "\n",
    "cv_rmse(xgb_fit).mean()"
   ]
  },
  {
   "cell_type": "markdown",
   "metadata": {
    "colab_type": "text",
    "id": "Uz69andQoBXs"
   },
   "source": [
    "from sklearn import svm\n",
    "svr_opt = svm.SVR(C = 100000, gamma = 1e-08)\n",
    "\n",
    "svr_fit = svr_opt.fit(X_train, y_train)\n",
    "\n",
    "\n",
    "# In[174]:\n",
    "\n",
    "\n",
    "cv_rmse(svr_fit).mean()"
   ]
  },
  {
   "cell_type": "code",
   "execution_count": 9,
   "metadata": {
    "colab": {},
    "colab_type": "code",
    "id": "KkgLb_SATmpU"
   },
   "outputs": [],
   "source": [
    "from mlxtend.regressor import StackingCVRegressor\n",
    "from sklearn.pipeline import make_pipeline"
   ]
  },
  {
   "cell_type": "code",
   "execution_count": 58,
   "metadata": {
    "colab": {
     "base_uri": "https://localhost:8080/",
     "height": 34
    },
    "colab_type": "code",
    "id": "1ozvCCGPTmpc",
    "outputId": "a2b065c1-dc48-4846-81a7-cdf78dea59f8"
   },
   "outputs": [
    {
     "data": {
      "text/plain": [
       "267.6229745126053"
      ]
     },
     "execution_count": 58,
     "metadata": {
      "tags": []
     },
     "output_type": "execute_result"
    }
   ],
   "source": [
    "from lightgbm import LGBMRegressor\n",
    "\n",
    "lgbm_model = LGBMRegressor(objective='regression',num_leaves=31,\n",
    "                              learning_rate=0.1, n_estimators=200,\n",
    "                              max_bin = 100, bagging_fraction = 0.8,\n",
    "                              bagging_freq = 5, feature_fraction = 0.8,\n",
    "                              feature_fraction_seed=9, bagging_seed=9,\n",
    "                              min_data_in_leaf =20, min_sum_hessian_in_leaf = 11)\n",
    "lgbm_fit = lgbm_model.fit(X_train, y_train)\n",
    "\n",
    "\n",
    "# In[198]:\n",
    "\n",
    "\n",
    "cv_rmse(lgbm_fit).mean()"
   ]
  },
  {
   "cell_type": "code",
   "execution_count": 0,
   "metadata": {
    "colab": {},
    "colab_type": "code",
    "id": "RKpXfrkvTmpk"
   },
   "outputs": [],
   "source": [
    "from mlxtend.regressor import StackingCVRegressor\n",
    "from sklearn.pipeline import make_pipeline\n",
    "\n",
    "#setup models\n",
    "ridge = make_pipeline(RobustScaler(), \n",
    "                      RidgeCV(alphas = alphas_alt, cv=kfolds))\n",
    "\n",
    "lasso = make_pipeline(RobustScaler(),\n",
    "                      LassoCV(max_iter=1e7, alphas = alphas2,\n",
    "                              random_state = 42, cv=kfolds))\n",
    "\n",
    "elasticnet = make_pipeline(RobustScaler(), \n",
    "                           ElasticNetCV(max_iter=1e7, alphas=e_alphas, \n",
    "                                        cv=kfolds, l1_ratio=e_l1ratio))\n",
    "\n",
    "lightgbm = make_pipeline(RobustScaler(),\n",
    "                        LGBMRegressor(objective='regression',num_leaves=31,\n",
    "                              learning_rate=0.1, n_estimators=200,\n",
    "                              max_bin = 100, bagging_fraction = 0.8,\n",
    "                              bagging_freq = 5, feature_fraction = 0.8,\n",
    "                              feature_fraction_seed=9, bagging_seed=9,\n",
    "                              min_data_in_leaf =6, min_sum_hessian_in_leaf = 11))\n",
    "\n",
    "\n",
    "xgboost = make_pipeline(RobustScaler(),\n",
    "                        XGBRegressor(learning_rate =0.1, n_estimators=200, max_depth=10,\n",
    "                     min_child_weight=5 ,gamma=0, subsample=0.7,\n",
    "                     colsample_bytree=0.8,objective= 'reg:linear',\n",
    "                     nthread=4,scale_pos_weight=1,seed=27, reg_alpha=0.00006))\n",
    " \n",
    "\n",
    "#stack\n",
    "stack_gen = StackingCVRegressor(regressors=(ridge, lasso, elasticnet, \n",
    "                                            xgboost, lightgbm), \n",
    "                               meta_regressor=xgboost,\n",
    "                               use_features_in_secondary=True)\n",
    "\n",
    "\n",
    "\n",
    "#prepare dataframes\n",
    "stackX = np.array(X_train)\n",
    "stacky = np.array(y_train)"
   ]
  },
  {
   "cell_type": "code",
   "execution_count": 0,
   "metadata": {
    "colab": {},
    "colab_type": "code",
    "id": "4SiIERTRTmpv"
   },
   "outputs": [],
   "source": [
    "stack_gen_model = stack_gen.fit(stackX, stacky)"
   ]
  },
  {
   "cell_type": "code",
   "execution_count": 0,
   "metadata": {
    "colab": {},
    "colab_type": "code",
    "id": "wIZ-XJyZTmpz"
   },
   "outputs": [],
   "source": [
    "em_preds = elastic_model3.predict(X_test)\n",
    "lasso_preds = lasso_model2.predict(X_test)\n",
    "ridge_preds = ridge_model2.predict(X_test)\n",
    "stack_gen_preds = stack_gen_model.predict(X_test)\n",
    "xgb_preds = xgb_fit.predict(X_test)\n",
    "#svr_preds = svr_fit.predict(X_test)\n",
    "lgbm_preds = lgbm_fit.predict(X_test)"
   ]
  },
  {
   "cell_type": "code",
   "execution_count": 62,
   "metadata": {
    "colab": {
     "base_uri": "https://localhost:8080/",
     "height": 34
    },
    "colab_type": "code",
    "id": "GEkTWjoFTmp1",
    "outputId": "0b16e07f-7f1d-453c-db4d-8da5e5454104"
   },
   "outputs": [
    {
     "name": "stdout",
     "output_type": "stream",
     "text": [
      "RMSE: 74.378886\n"
     ]
    }
   ],
   "source": [
    "from sklearn.metrics import mean_squared_error\n",
    "from math import sqrt\n",
    "\n",
    "rmse = np.sqrt(mean_squared_error(y_test, stack_gen_preds))\n",
    "print(\"RMSE: %f\" % (rmse))"
   ]
  },
  {
   "cell_type": "code",
   "execution_count": 63,
   "metadata": {
    "colab": {
     "base_uri": "https://localhost:8080/",
     "height": 1071
    },
    "colab_type": "code",
    "id": "jiLp4u8Ap8OL",
    "outputId": "ca45dd62-3c54-46ce-9ff4-a866dd1f2686"
   },
   "outputs": [
    {
     "name": "stdout",
     "output_type": "stream",
     "text": [
      "Absolute Error 6041       1.079102\n",
      "5637       1.645996\n",
      "9644       0.004395\n",
      "3159       0.035645\n",
      "5278       0.547363\n",
      "7354       7.808105\n",
      "10183      0.049805\n",
      "10297      0.270020\n",
      "8316       0.080566\n",
      "462        0.973633\n",
      "2835       1.134766\n",
      "7614       0.370117\n",
      "6442       0.546875\n",
      "5624       3.836426\n",
      "7751       0.037109\n",
      "5317       1.139648\n",
      "2948       0.018555\n",
      "2571       2.338867\n",
      "1129       0.159668\n",
      "9682       0.379883\n",
      "5156       0.522949\n",
      "4405      16.086914\n",
      "2378       0.761719\n",
      "8309       0.263184\n",
      "3031       0.156250\n",
      "3780       0.265625\n",
      "9314       3.183105\n",
      "2547       0.695068\n",
      "1599       9.654297\n",
      "8679       0.225586\n",
      "            ...    \n",
      "6327       0.128418\n",
      "2675       0.330566\n",
      "10220      1.149414\n",
      "9837       0.906250\n",
      "1479       1.230469\n",
      "2109       1.706055\n",
      "10051      0.469482\n",
      "10591      1.909180\n",
      "7379       0.403320\n",
      "2069      18.625000\n",
      "8420       0.158691\n",
      "8231       1.856445\n",
      "5365       0.416016\n",
      "5261       2.687500\n",
      "440      906.015625\n",
      "5045       0.599609\n",
      "2322       0.681885\n",
      "582       25.561523\n",
      "9572       2.363770\n",
      "5121       1.120117\n",
      "1667       2.264648\n",
      "1516      42.890625\n",
      "9158       0.437988\n",
      "2931       0.507812\n",
      "6603       0.395508\n",
      "6821       0.270996\n",
      "10518      0.393066\n",
      "397        1.791992\n",
      "9847       0.416016\n",
      "1453       1.683105\n",
      "Name: Total_Fare, Length: 3205, dtype: float64\n"
     ]
    }
   ],
   "source": [
    "abs_error = abs(stack_gen_preds - y_test)\n",
    "print('Absolute Error',abs_error)\n",
    "mabe = 100 * (abs_error / y_test)"
   ]
  },
  {
   "cell_type": "code",
   "execution_count": 64,
   "metadata": {
    "colab": {
     "base_uri": "https://localhost:8080/",
     "height": 34
    },
    "colab_type": "code",
    "id": "o7LaGQ1qp7kq",
    "outputId": "95ac2bef-7b64-406f-8a63-3a4a4de6bb8c"
   },
   "outputs": [
    {
     "name": "stdout",
     "output_type": "stream",
     "text": [
      "Accuracy: 99.95 %.\n"
     ]
    }
   ],
   "source": [
    "accuracy = 100 - np.mean(mabe)\n",
    "print('Accuracy:', round(accuracy, 2), '%.')"
   ]
  },
  {
   "cell_type": "code",
   "execution_count": 79,
   "metadata": {
    "colab": {
     "base_uri": "https://localhost:8080/",
     "height": 153
    },
    "colab_type": "code",
    "id": "zmlgRUKUtYBm",
    "outputId": "83eacb70-878c-40da-c115-6a5055e6e494"
   },
   "outputs": [
    {
     "name": "stdout",
     "output_type": "stream",
     "text": [
      "      Origin  Destination  Total_Fare  Airways  Available  Duration  Hopping  \\\n",
      "6041     0.0          7.0      8483.0      0.0        7.0     170.0      0.0   \n",
      "\n",
      "      Date  Month    Year  Taken_Day  Days_To_Dept  Arrival_Hour  \\\n",
      "6041   1.0    5.0  2019.0        4.0          53.0          16.0   \n",
      "\n",
      "      Arrival_Minute  Dep_Hour  Dep_Minute  Session  FlightGroup  \n",
      "6041            10.0      13.0        20.0      0.0          0.0  \n"
     ]
    }
   ],
   "source": [
    "testval = X_test.iloc[0].to_frame().T\n",
    "print(testval)"
   ]
  },
  {
   "cell_type": "code",
   "execution_count": 80,
   "metadata": {
    "colab": {
     "base_uri": "https://localhost:8080/",
     "height": 34
    },
    "colab_type": "code",
    "id": "er9edQHosSTt",
    "outputId": "371419a0-eebc-4bcb-e968-be1b8540763a"
   },
   "outputs": [
    {
     "data": {
      "text/plain": [
       "array([8484.079], dtype=float32)"
      ]
     },
     "execution_count": 80,
     "metadata": {
      "tags": []
     },
     "output_type": "execute_result"
    }
   ],
   "source": [
    "stack_gen_model.predict(testval)"
   ]
  },
  {
   "cell_type": "code",
   "execution_count": 67,
   "metadata": {
    "colab": {
     "base_uri": "https://localhost:8080/",
     "height": 34
    },
    "colab_type": "code",
    "id": "_xmYydF-rpyt",
    "outputId": "c482d408-2c36-414c-c2d7-5b79f45fefde"
   },
   "outputs": [
    {
     "data": {
      "text/plain": [
       "0.9996019261452207"
      ]
     },
     "execution_count": 67,
     "metadata": {
      "tags": []
     },
     "output_type": "execute_result"
    }
   ],
   "source": [
    "from sklearn.metrics import r2_score\n",
    "r2_score(y_test,stack_gen_preds)"
   ]
  },
  {
   "cell_type": "markdown",
   "metadata": {
    "colab_type": "text",
    "id": "xU4dsP9NrrMx"
   },
   "source": [
    "df_test_xgb = df_test[['Additional_Info', 'Airline', 'Destination', 'Source', 'Date', 'Month',\n",
    "       'Year', 'Stop', 'Arrival_Hour', 'Arrival_Minute', 'Dep_Hour',\n",
    "       'Dep_Minute', 'Route_1', 'Route_2', 'Route_3', 'Route_4', 'Route_5']]\n",
    "preds_1 = stack_gen_model.predict(df_test_xgb)\n",
    "df_test_xgb['Price'] = preds_1\n",
    "df_test_xgb.to_csv('flight_price_5.csv')"
   ]
  },
  {
   "cell_type": "code",
   "execution_count": 0,
   "metadata": {
    "colab": {},
    "colab_type": "code",
    "id": "y9YDiEsVTmp4",
    "outputId": "b750cf50-c80c-424e-83bd-fc1b34b302f1"
   },
   "outputs": [
    {
     "name": "stderr",
     "output_type": "stream",
     "text": [
      "C:\\Users\\CG9254\\AppData\\Local\\Continuum\\anaconda3\\lib\\site-packages\\ipykernel_launcher.py:5: SettingWithCopyWarning: \n",
      "A value is trying to be set on a copy of a slice from a DataFrame.\n",
      "Try using .loc[row_indexer,col_indexer] = value instead\n",
      "\n",
      "See the caveats in the documentation: http://pandas.pydata.org/pandas-docs/stable/indexing.html#indexing-view-versus-copy\n",
      "  \"\"\"\n"
     ]
    }
   ],
   "source": []
  },
  {
   "cell_type": "markdown",
   "metadata": {
    "colab_type": "text",
    "id": "7FettzbbTmqA"
   },
   "source": [
    "df_test_xgb = df_test[['Additional_Info', 'Airline', 'Destination', 'Source', 'Date', 'Month',\n",
    "       'Year', 'Stop', 'Arrival_Hour', 'Arrival_Minute', 'Dep_Hour',\n",
    "       'Dep_Minute', 'Route_1', 'Route_2', 'Route_3', 'Route_4', 'Route_5']]\n",
    "preds_1 = xgb_fit.predict(df_test_xgb)\n",
    "df_test_xgb['Price'] = preds_1\n",
    "df_test_xgb.to_csv('flight_price_10.csv')"
   ]
  },
  {
   "cell_type": "code",
   "execution_count": 0,
   "metadata": {
    "colab": {},
    "colab_type": "code",
    "id": "8ULqW6cJTmqB"
   },
   "outputs": [],
   "source": []
  }
 ],
 "metadata": {
  "colab": {
   "collapsed_sections": [],
   "name": "code.ipynb",
   "provenance": [],
   "version": "0.3.2"
  },
  "kernelspec": {
   "display_name": "Python 3",
   "language": "python",
   "name": "python3"
  },
  "language_info": {
   "codemirror_mode": {
    "name": "ipython",
    "version": 3
   },
   "file_extension": ".py",
   "mimetype": "text/x-python",
   "name": "python",
   "nbconvert_exporter": "python",
   "pygments_lexer": "ipython3",
   "version": "3.6.8"
  }
 },
 "nbformat": 4,
 "nbformat_minor": 1
}
