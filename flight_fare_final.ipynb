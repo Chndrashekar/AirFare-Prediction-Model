{
 "cells": [
  {
   "cell_type": "code",
   "execution_count": 0,
   "metadata": {
    "colab": {},
    "colab_type": "code",
    "id": "Pq6JjN4LTmm4"
   },
   "outputs": [],
   "source": [
    "import numpy as np # linear algebra\n",
    "import pandas as pd # data processing, CSV file I/O (e.g. pd.read_csv)\n",
    "get_ipython().run_line_magic('matplotlib', 'inline')\n",
    "import matplotlib.pyplot as plt  # Matlab-style plotting\n",
    "import seaborn as sns\n",
    "color = sns.color_palette()\n",
    "sns.set_style('darkgrid')\n",
    "from sklearn.model_selection import KFold, cross_val_score\n",
    "from sklearn.preprocessing import RobustScaler\n",
    "from sklearn.pipeline import make_pipeline\n",
    "from lightgbm import LGBMRegressor"
   ]
  },
  {
   "cell_type": "code",
   "execution_count": 0,
   "metadata": {
    "colab": {},
    "colab_type": "code",
    "id": "sKwhgqUz9-JZ"
   },
   "outputs": [],
   "source": []
  },
  {
   "cell_type": "code",
   "execution_count": 0,
   "metadata": {
    "colab": {},
    "colab_type": "code",
    "id": "juRNn26-TocC"
   },
   "outputs": [],
   "source": [
    "import datetime as dt"
   ]
  },
  {
   "cell_type": "code",
   "execution_count": 0,
   "metadata": {
    "colab": {},
    "colab_type": "code",
    "id": "sHEHyjcl997u"
   },
   "outputs": [],
   "source": []
  },
  {
   "cell_type": "code",
   "execution_count": 0,
   "metadata": {
    "colab": {},
    "colab_type": "code",
    "id": "vEQSENdgTmm-"
   },
   "outputs": [],
   "source": [
    "big_df =  pd.read_csv('dataset/data_new.csv')"
   ]
  },
  {
   "cell_type": "code",
   "execution_count": 4,
   "metadata": {
    "colab": {
     "base_uri": "https://localhost:8080/",
     "height": 323
    },
    "colab_type": "code",
    "id": "WmJaz_BZTmnG",
    "outputId": "254855f1-e466-4736-eda4-734f55f9200d"
   },
   "outputs": [
    {
     "data": {
      "text/plain": [
       "Origin            object\n",
       "Destination       object\n",
       "Dept_Date         object\n",
       "Dept_Time         object\n",
       "Arr_Time          object\n",
       "Total_Fare       float64\n",
       "Base_Fare        float64\n",
       "Fuel_Fare        float64\n",
       "Airways           object\n",
       "Available        float64\n",
       "Duration          object\n",
       "Class_Type        object\n",
       "Flight Number     object\n",
       "Flight Code       object\n",
       "FlightID          object\n",
       "Hopping           object\n",
       "Taken             object\n",
       "dtype: object"
      ]
     },
     "execution_count": 4,
     "metadata": {
      "tags": []
     },
     "output_type": "execute_result"
    }
   ],
   "source": [
    "big_df.dtypes"
   ]
  },
  {
   "cell_type": "code",
   "execution_count": 0,
   "metadata": {
    "colab": {},
    "colab_type": "code",
    "id": "uQ433JJdgDcY"
   },
   "outputs": [],
   "source": [
    "def weekDay(dayVal):\n",
    "    day, month, year = (int(x) for x in dayVal.split('-'))    \n",
    "    ans = dt.date(year, month, day).strftime(\"%a\")\n",
    "    return ans\n",
    "def weekDay2(dayVal):\n",
    "    month , day, year = (int(x) for x in dayVal.split('/'))    \n",
    "    ans = dt.date(year, month, day).strftime(\"%a\")\n",
    "    return ans"
   ]
  },
  {
   "cell_type": "code",
   "execution_count": 0,
   "metadata": {
    "colab": {},
    "colab_type": "code",
    "id": "3y0sTiM_f226"
   },
   "outputs": [],
   "source": [
    "big_df['Taken_Day'] = big_df['Taken'].apply(weekDay)\n",
    "big_df['Dept_Day'] = big_df['Dept_Date'].apply(weekDay2)"
   ]
  },
  {
   "cell_type": "code",
   "execution_count": 0,
   "metadata": {
    "colab": {},
    "colab_type": "code",
    "id": "D1zWDVvQgNrb"
   },
   "outputs": [],
   "source": [
    "big_df[\"Dept_Date\"] = big_df[\"Dept_Date\"].apply(pd.to_datetime)\n",
    "big_df[\"Taken\"] = big_df[\"Taken\"].apply(pd.to_datetime)"
   ]
  },
  {
   "cell_type": "code",
   "execution_count": 0,
   "metadata": {
    "colab": {},
    "colab_type": "code",
    "id": "t1K8xJCIgYqp"
   },
   "outputs": [],
   "source": [
    "big_df['Days_To_Dept'] = (big_df['Dept_Date'] - big_df['Taken']).dt.days"
   ]
  },
  {
   "cell_type": "code",
   "execution_count": 0,
   "metadata": {
    "colab": {},
    "colab_type": "code",
    "id": "Ed_tgCuHbH8q"
   },
   "outputs": [],
   "source": [
    "big_df=big_df.drop(['Dept_Date'], axis=1)"
   ]
  },
  {
   "cell_type": "code",
   "execution_count": 0,
   "metadata": {
    "colab": {},
    "colab_type": "code",
    "id": "wKOTwHLagjvd"
   },
   "outputs": [],
   "source": [
    "big_df=big_df.drop(['Taken'], axis=1)"
   ]
  },
  {
   "cell_type": "code",
   "execution_count": 11,
   "metadata": {
    "colab": {
     "base_uri": "https://localhost:8080/",
     "height": 408
    },
    "colab_type": "code",
    "id": "fB_1TEW8tnJP",
    "outputId": "0d8df292-2685-499f-f8e2-2bc7beb1864d"
   },
   "outputs": [
    {
     "name": "stdout",
     "output_type": "stream",
     "text": [
      "<class 'pandas.core.frame.DataFrame'>\n",
      "RangeIndex: 51734 entries, 0 to 51733\n",
      "Data columns (total 18 columns):\n",
      "Origin           51734 non-null object\n",
      "Destination      51734 non-null object\n",
      "Dept_Time        51719 non-null object\n",
      "Arr_Time         51719 non-null object\n",
      "Total_Fare       51719 non-null float64\n",
      "Base_Fare        51719 non-null float64\n",
      "Fuel_Fare        51719 non-null float64\n",
      "Airways          51719 non-null object\n",
      "Available        51719 non-null float64\n",
      "Duration         51719 non-null object\n",
      "Class_Type       51719 non-null object\n",
      "Flight Number    51719 non-null object\n",
      "Flight Code      51719 non-null object\n",
      "FlightID         51719 non-null object\n",
      "Hopping          51719 non-null object\n",
      "Taken_Day        51734 non-null object\n",
      "Dept_Day         51734 non-null object\n",
      "Days_To_Dept     51734 non-null int64\n",
      "dtypes: float64(4), int64(1), object(13)\n",
      "memory usage: 7.1+ MB\n"
     ]
    }
   ],
   "source": [
    "big_df.info()"
   ]
  },
  {
   "cell_type": "code",
   "execution_count": 0,
   "metadata": {
    "colab": {},
    "colab_type": "code",
    "id": "S_rgOo63W0hY"
   },
   "outputs": [],
   "source": [
    "big_df['Dep_Hour'] = big_df['Dept_Time'] .str.split(':').str[0]\n",
    "big_df['Dep_Hour'] = pd.to_numeric(big_df['Dep_Hour'], errors='coerce')\n",
    "big_df= big_df.dropna(subset=['Dep_Hour'])\n",
    "big_df['Dep_Hour'] = big_df['Dep_Hour'].astype(int)"
   ]
  },
  {
   "cell_type": "code",
   "execution_count": 0,
   "metadata": {
    "colab": {},
    "colab_type": "code",
    "id": "GnsBxYiFTmne"
   },
   "outputs": [],
   "source": [
    "big_df=big_df.drop(['Dept_Time'], axis=1)"
   ]
  },
  {
   "cell_type": "code",
   "execution_count": 0,
   "metadata": {
    "colab": {},
    "colab_type": "code",
    "id": "ohIT6U0tTmni"
   },
   "outputs": [],
   "source": [
    "big_df['Total_Fare'].fillna((big_df['Total_Fare'].mean()), inplace=True)"
   ]
  },
  {
   "cell_type": "code",
   "execution_count": 15,
   "metadata": {
    "colab": {
     "base_uri": "https://localhost:8080/",
     "height": 297
    },
    "colab_type": "code",
    "id": "gar1G1oVTmnl",
    "outputId": "c31257ba-102b-45dd-8484-11d8e0114dd0"
   },
   "outputs": [
    {
     "data": {
      "text/html": [
       "<div>\n",
       "<style scoped>\n",
       "    .dataframe tbody tr th:only-of-type {\n",
       "        vertical-align: middle;\n",
       "    }\n",
       "\n",
       "    .dataframe tbody tr th {\n",
       "        vertical-align: top;\n",
       "    }\n",
       "\n",
       "    .dataframe thead th {\n",
       "        text-align: right;\n",
       "    }\n",
       "</style>\n",
       "<table border=\"1\" class=\"dataframe\">\n",
       "  <thead>\n",
       "    <tr style=\"text-align: right;\">\n",
       "      <th></th>\n",
       "      <th>Total_Fare</th>\n",
       "      <th>Base_Fare</th>\n",
       "      <th>Fuel_Fare</th>\n",
       "      <th>Available</th>\n",
       "      <th>Days_To_Dept</th>\n",
       "      <th>Dep_Hour</th>\n",
       "    </tr>\n",
       "  </thead>\n",
       "  <tbody>\n",
       "    <tr>\n",
       "      <th>count</th>\n",
       "      <td>51719.000000</td>\n",
       "      <td>51719.000000</td>\n",
       "      <td>51719.000000</td>\n",
       "      <td>51719.000000</td>\n",
       "      <td>51719.000000</td>\n",
       "      <td>51719.000000</td>\n",
       "    </tr>\n",
       "    <tr>\n",
       "      <th>mean</th>\n",
       "      <td>7910.773739</td>\n",
       "      <td>6212.169493</td>\n",
       "      <td>1280.208589</td>\n",
       "      <td>8.921847</td>\n",
       "      <td>45.286529</td>\n",
       "      <td>11.214583</td>\n",
       "    </tr>\n",
       "    <tr>\n",
       "      <th>std</th>\n",
       "      <td>4069.358744</td>\n",
       "      <td>3648.616760</td>\n",
       "      <td>847.002890</td>\n",
       "      <td>10.725873</td>\n",
       "      <td>26.229297</td>\n",
       "      <td>6.134450</td>\n",
       "    </tr>\n",
       "    <tr>\n",
       "      <th>min</th>\n",
       "      <td>3211.000000</td>\n",
       "      <td>1530.000000</td>\n",
       "      <td>218.000000</td>\n",
       "      <td>1.000000</td>\n",
       "      <td>0.000000</td>\n",
       "      <td>0.000000</td>\n",
       "    </tr>\n",
       "    <tr>\n",
       "      <th>25%</th>\n",
       "      <td>5223.000000</td>\n",
       "      <td>3800.000000</td>\n",
       "      <td>481.000000</td>\n",
       "      <td>5.000000</td>\n",
       "      <td>23.000000</td>\n",
       "      <td>6.000000</td>\n",
       "    </tr>\n",
       "    <tr>\n",
       "      <th>50%</th>\n",
       "      <td>7009.000000</td>\n",
       "      <td>5350.000000</td>\n",
       "      <td>860.000000</td>\n",
       "      <td>7.000000</td>\n",
       "      <td>46.000000</td>\n",
       "      <td>9.000000</td>\n",
       "    </tr>\n",
       "    <tr>\n",
       "      <th>75%</th>\n",
       "      <td>9355.000000</td>\n",
       "      <td>7550.000000</td>\n",
       "      <td>2171.000000</td>\n",
       "      <td>9.000000</td>\n",
       "      <td>68.000000</td>\n",
       "      <td>17.000000</td>\n",
       "    </tr>\n",
       "    <tr>\n",
       "      <th>max</th>\n",
       "      <td>54826.000000</td>\n",
       "      <td>49906.000000</td>\n",
       "      <td>4398.000000</td>\n",
       "      <td>112.000000</td>\n",
       "      <td>92.000000</td>\n",
       "      <td>23.000000</td>\n",
       "    </tr>\n",
       "  </tbody>\n",
       "</table>\n",
       "</div>"
      ],
      "text/plain": [
       "         Total_Fare     Base_Fare     Fuel_Fare     Available  Days_To_Dept  \\\n",
       "count  51719.000000  51719.000000  51719.000000  51719.000000  51719.000000   \n",
       "mean    7910.773739   6212.169493   1280.208589      8.921847     45.286529   \n",
       "std     4069.358744   3648.616760    847.002890     10.725873     26.229297   \n",
       "min     3211.000000   1530.000000    218.000000      1.000000      0.000000   \n",
       "25%     5223.000000   3800.000000    481.000000      5.000000     23.000000   \n",
       "50%     7009.000000   5350.000000    860.000000      7.000000     46.000000   \n",
       "75%     9355.000000   7550.000000   2171.000000      9.000000     68.000000   \n",
       "max    54826.000000  49906.000000   4398.000000    112.000000     92.000000   \n",
       "\n",
       "           Dep_Hour  \n",
       "count  51719.000000  \n",
       "mean      11.214583  \n",
       "std        6.134450  \n",
       "min        0.000000  \n",
       "25%        6.000000  \n",
       "50%        9.000000  \n",
       "75%       17.000000  \n",
       "max       23.000000  "
      ]
     },
     "execution_count": 15,
     "metadata": {
      "tags": []
     },
     "output_type": "execute_result"
    }
   ],
   "source": [
    "big_df.describe()"
   ]
  },
  {
   "cell_type": "code",
   "execution_count": 0,
   "metadata": {
    "colab": {},
    "colab_type": "code",
    "id": "P97Rej_YTmnq"
   },
   "outputs": [],
   "source": [
    "import re\n",
    "def convertToDecimal(value):\n",
    "    h, m = re.sub(\"\\D\",\" \",value).split()\n",
    "    return int(h)*60+int(m)"
   ]
  },
  {
   "cell_type": "code",
   "execution_count": 0,
   "metadata": {
    "colab": {},
    "colab_type": "code",
    "id": "Jvsn4bBOhON4"
   },
   "outputs": [],
   "source": [
    "big_df.loc[:,'Duration'] = big_df.loc[:,'Duration'].apply(convertToDecimal)"
   ]
  },
  {
   "cell_type": "code",
   "execution_count": 0,
   "metadata": {
    "colab": {},
    "colab_type": "code",
    "id": "sDvMXUTNcDaw"
   },
   "outputs": [],
   "source": [
    "def assign_session(val):\n",
    "    if val > 0.0 and val <= 6.0:\n",
    "        return 'Night'\n",
    "    elif val > 6.0 and val <= 12.0:\n",
    "        return 'Morning'\n",
    "    elif val > 12.0 and val <= 18.0:\n",
    "        return 'Afternoon'\n",
    "    else:\n",
    "        return 'Evening'"
   ]
  },
  {
   "cell_type": "code",
   "execution_count": 0,
   "metadata": {
    "colab": {},
    "colab_type": "code",
    "id": "-fP20g60hd09"
   },
   "outputs": [],
   "source": [
    "big_df['Session'] = big_df['Dep_Hour'].apply(assign_session)"
   ]
  },
  {
   "cell_type": "code",
   "execution_count": 20,
   "metadata": {
    "colab": {
     "base_uri": "https://localhost:8080/",
     "height": 425
    },
    "colab_type": "code",
    "id": "hrjBU3FtdPet",
    "outputId": "98bb8b50-4648-48b1-e254-0e3ece386e82"
   },
   "outputs": [
    {
     "name": "stdout",
     "output_type": "stream",
     "text": [
      "<class 'pandas.core.frame.DataFrame'>\n",
      "Int64Index: 51719 entries, 0 to 51733\n",
      "Data columns (total 19 columns):\n",
      "Origin           51719 non-null object\n",
      "Destination      51719 non-null object\n",
      "Arr_Time         51719 non-null object\n",
      "Total_Fare       51719 non-null float64\n",
      "Base_Fare        51719 non-null float64\n",
      "Fuel_Fare        51719 non-null float64\n",
      "Airways          51719 non-null object\n",
      "Available        51719 non-null float64\n",
      "Duration         51719 non-null int64\n",
      "Class_Type       51719 non-null object\n",
      "Flight Number    51719 non-null object\n",
      "Flight Code      51719 non-null object\n",
      "FlightID         51719 non-null object\n",
      "Hopping          51719 non-null object\n",
      "Taken_Day        51719 non-null object\n",
      "Dept_Day         51719 non-null object\n",
      "Days_To_Dept     51719 non-null int64\n",
      "Dep_Hour         51719 non-null int64\n",
      "Session          51719 non-null object\n",
      "dtypes: float64(4), int64(3), object(12)\n",
      "memory usage: 7.9+ MB\n"
     ]
    }
   ],
   "source": [
    "big_df.info()"
   ]
  },
  {
   "cell_type": "code",
   "execution_count": 21,
   "metadata": {
    "colab": {
     "base_uri": "https://localhost:8080/",
     "height": 258
    },
    "colab_type": "code",
    "id": "dcw1lbHMeEE-",
    "outputId": "314c7ffc-bb26-4b4a-b419-fe738ce686bf"
   },
   "outputs": [
    {
     "data": {
      "text/html": [
       "<div>\n",
       "<style scoped>\n",
       "    .dataframe tbody tr th:only-of-type {\n",
       "        vertical-align: middle;\n",
       "    }\n",
       "\n",
       "    .dataframe tbody tr th {\n",
       "        vertical-align: top;\n",
       "    }\n",
       "\n",
       "    .dataframe thead th {\n",
       "        text-align: right;\n",
       "    }\n",
       "</style>\n",
       "<table border=\"1\" class=\"dataframe\">\n",
       "  <thead>\n",
       "    <tr style=\"text-align: right;\">\n",
       "      <th></th>\n",
       "      <th>Origin</th>\n",
       "      <th>Destination</th>\n",
       "      <th>Arr_Time</th>\n",
       "      <th>Total_Fare</th>\n",
       "      <th>Base_Fare</th>\n",
       "      <th>Fuel_Fare</th>\n",
       "      <th>Airways</th>\n",
       "      <th>Available</th>\n",
       "      <th>Duration</th>\n",
       "      <th>Class_Type</th>\n",
       "      <th>Flight Number</th>\n",
       "      <th>Flight Code</th>\n",
       "      <th>FlightID</th>\n",
       "      <th>Hopping</th>\n",
       "      <th>Taken_Day</th>\n",
       "      <th>Dept_Day</th>\n",
       "      <th>Days_To_Dept</th>\n",
       "      <th>Dep_Hour</th>\n",
       "      <th>Session</th>\n",
       "    </tr>\n",
       "  </thead>\n",
       "  <tbody>\n",
       "    <tr>\n",
       "      <th>0</th>\n",
       "      <td>BLR</td>\n",
       "      <td>DEL</td>\n",
       "      <td>2:20</td>\n",
       "      <td>7517.0</td>\n",
       "      <td>6450.0</td>\n",
       "      <td>796.0</td>\n",
       "      <td>IndiGo</td>\n",
       "      <td>1.0</td>\n",
       "      <td>170</td>\n",
       "      <td>Economy</td>\n",
       "      <td>2484</td>\n",
       "      <td>6E</td>\n",
       "      <td>6E_2484_</td>\n",
       "      <td>False</td>\n",
       "      <td>Tue</td>\n",
       "      <td>Tue</td>\n",
       "      <td>0</td>\n",
       "      <td>23</td>\n",
       "      <td>Evening</td>\n",
       "    </tr>\n",
       "    <tr>\n",
       "      <th>1</th>\n",
       "      <td>BLR</td>\n",
       "      <td>DEL</td>\n",
       "      <td>12:30</td>\n",
       "      <td>7806.0</td>\n",
       "      <td>7025.0</td>\n",
       "      <td>460.0</td>\n",
       "      <td>Spicejet</td>\n",
       "      <td>9.0</td>\n",
       "      <td>175</td>\n",
       "      <td>Economy</td>\n",
       "      <td>192</td>\n",
       "      <td>SG</td>\n",
       "      <td>SG_192_</td>\n",
       "      <td>False</td>\n",
       "      <td>Tue</td>\n",
       "      <td>Tue</td>\n",
       "      <td>0</td>\n",
       "      <td>9</td>\n",
       "      <td>Morning</td>\n",
       "    </tr>\n",
       "    <tr>\n",
       "      <th>2</th>\n",
       "      <td>BLR</td>\n",
       "      <td>DEL</td>\n",
       "      <td>21:35</td>\n",
       "      <td>7888.0</td>\n",
       "      <td>6755.0</td>\n",
       "      <td>862.0</td>\n",
       "      <td>IndiGo</td>\n",
       "      <td>13.0</td>\n",
       "      <td>285</td>\n",
       "      <td>Economy</td>\n",
       "      <td>427_ 202</td>\n",
       "      <td>6E</td>\n",
       "      <td>6E_427_ 202_</td>\n",
       "      <td>False</td>\n",
       "      <td>Tue</td>\n",
       "      <td>Tue</td>\n",
       "      <td>0</td>\n",
       "      <td>16</td>\n",
       "      <td>Afternoon</td>\n",
       "    </tr>\n",
       "    <tr>\n",
       "      <th>3</th>\n",
       "      <td>BLR</td>\n",
       "      <td>DEL</td>\n",
       "      <td>2:10</td>\n",
       "      <td>8009.0</td>\n",
       "      <td>7195.0</td>\n",
       "      <td>661.0</td>\n",
       "      <td>AirAsia</td>\n",
       "      <td>11.0</td>\n",
       "      <td>165</td>\n",
       "      <td>Economy</td>\n",
       "      <td>722</td>\n",
       "      <td>I5</td>\n",
       "      <td>I5_722_</td>\n",
       "      <td>False</td>\n",
       "      <td>Tue</td>\n",
       "      <td>Tue</td>\n",
       "      <td>0</td>\n",
       "      <td>23</td>\n",
       "      <td>Evening</td>\n",
       "    </tr>\n",
       "    <tr>\n",
       "      <th>4</th>\n",
       "      <td>BLR</td>\n",
       "      <td>DEL</td>\n",
       "      <td>19:45</td>\n",
       "      <td>8041.0</td>\n",
       "      <td>6950.0</td>\n",
       "      <td>820.0</td>\n",
       "      <td>IndiGo</td>\n",
       "      <td>3.0</td>\n",
       "      <td>165</td>\n",
       "      <td>Economy</td>\n",
       "      <td>2988</td>\n",
       "      <td>6E</td>\n",
       "      <td>6E_2988_</td>\n",
       "      <td>False</td>\n",
       "      <td>Tue</td>\n",
       "      <td>Tue</td>\n",
       "      <td>0</td>\n",
       "      <td>17</td>\n",
       "      <td>Afternoon</td>\n",
       "    </tr>\n",
       "  </tbody>\n",
       "</table>\n",
       "</div>"
      ],
      "text/plain": [
       "  Origin Destination Arr_Time  Total_Fare  Base_Fare  Fuel_Fare   Airways  \\\n",
       "0    BLR         DEL     2:20      7517.0     6450.0      796.0    IndiGo   \n",
       "1    BLR         DEL    12:30      7806.0     7025.0      460.0  Spicejet   \n",
       "2    BLR         DEL    21:35      7888.0     6755.0      862.0    IndiGo   \n",
       "3    BLR         DEL     2:10      8009.0     7195.0      661.0   AirAsia   \n",
       "4    BLR         DEL    19:45      8041.0     6950.0      820.0    IndiGo   \n",
       "\n",
       "   Available  Duration Class_Type Flight Number Flight Code      FlightID  \\\n",
       "0        1.0       170    Economy          2484          6E      6E_2484_   \n",
       "1        9.0       175    Economy           192          SG       SG_192_   \n",
       "2       13.0       285    Economy      427_ 202          6E  6E_427_ 202_   \n",
       "3       11.0       165    Economy           722          I5       I5_722_   \n",
       "4        3.0       165    Economy          2988          6E      6E_2988_   \n",
       "\n",
       "  Hopping Taken_Day Dept_Day  Days_To_Dept  Dep_Hour    Session  \n",
       "0   False       Tue      Tue             0        23    Evening  \n",
       "1   False       Tue      Tue             0         9    Morning  \n",
       "2   False       Tue      Tue             0        16  Afternoon  \n",
       "3   False       Tue      Tue             0        23    Evening  \n",
       "4   False       Tue      Tue             0        17  Afternoon  "
      ]
     },
     "execution_count": 21,
     "metadata": {
      "tags": []
     },
     "output_type": "execute_result"
    }
   ],
   "source": [
    "big_df.head()"
   ]
  },
  {
   "cell_type": "code",
   "execution_count": 0,
   "metadata": {
    "colab": {},
    "colab_type": "code",
    "id": "GSPNQyoqdtCp"
   },
   "outputs": [],
   "source": [
    "big_df.loc[:,'FlightGroup'] =big_df.loc[:,['Airways','Session']].astype(str).apply('_'.join,1)"
   ]
  },
  {
   "cell_type": "code",
   "execution_count": 0,
   "metadata": {
    "colab": {},
    "colab_type": "code",
    "id": "rkxjqoHU7xZa"
   },
   "outputs": [],
   "source": [
    "big_df = big_df.loc[big_df['Destination']=='DEL']"
   ]
  },
  {
   "cell_type": "code",
   "execution_count": 24,
   "metadata": {
    "colab": {
     "base_uri": "https://localhost:8080/",
     "height": 442
    },
    "colab_type": "code",
    "id": "9Xc5FHPY7xZe",
    "outputId": "170e8155-8dfa-43e7-dd24-e888ab2341d5"
   },
   "outputs": [
    {
     "name": "stdout",
     "output_type": "stream",
     "text": [
      "<class 'pandas.core.frame.DataFrame'>\n",
      "Int64Index: 20816 entries, 0 to 51720\n",
      "Data columns (total 20 columns):\n",
      "Origin           20816 non-null object\n",
      "Destination      20816 non-null object\n",
      "Arr_Time         20816 non-null object\n",
      "Total_Fare       20816 non-null float64\n",
      "Base_Fare        20816 non-null float64\n",
      "Fuel_Fare        20816 non-null float64\n",
      "Airways          20816 non-null object\n",
      "Available        20816 non-null float64\n",
      "Duration         20816 non-null int64\n",
      "Class_Type       20816 non-null object\n",
      "Flight Number    20816 non-null object\n",
      "Flight Code      20816 non-null object\n",
      "FlightID         20816 non-null object\n",
      "Hopping          20816 non-null object\n",
      "Taken_Day        20816 non-null object\n",
      "Dept_Day         20816 non-null object\n",
      "Days_To_Dept     20816 non-null int64\n",
      "Dep_Hour         20816 non-null int64\n",
      "Session          20816 non-null object\n",
      "FlightGroup      20816 non-null object\n",
      "dtypes: float64(4), int64(3), object(13)\n",
      "memory usage: 3.3+ MB\n"
     ]
    }
   ],
   "source": [
    "big_df.info()"
   ]
  },
  {
   "cell_type": "code",
   "execution_count": 25,
   "metadata": {
    "colab": {
     "base_uri": "https://localhost:8080/",
     "height": 425
    },
    "colab_type": "code",
    "id": "rFTNEC-YA45x",
    "outputId": "5132d98b-ae09-47d0-897a-cf75afc4d5e5"
   },
   "outputs": [
    {
     "name": "stdout",
     "output_type": "stream",
     "text": [
      "['IndiGo_Evening' 'Spicejet_Morning' 'IndiGo_Afternoon' 'AirAsia_Evening'\n",
      " 'Spicejet_Evening' 'IndiGo_Morning' 'Air India_Morning'\n",
      " 'Air India_Evening' 'Air India_Afternoon' 'Air India_Night'\n",
      " 'Jet Airways_Afternoon' 'Jet Airways_Morning' 'Vistara_Morning'\n",
      " 'Vistara_Evening' 'AirAsia_Night' 'Spicejet_Night' 'Jet Airways_Evening'\n",
      " 'IndiGo_Night' 'Jet Airways_Night' 'Spicejet_Afternoon'\n",
      " 'Spicejet HBag Only_Night' 'Spicejet HBag Only_Evening'\n",
      " 'Spicejet HBag Only_Morning'] \n",
      "\n",
      "['Tue' 'Wed' 'Thu' 'Fri' 'Sat' 'Sun' 'Mon'] \n",
      "\n",
      "['Tue' 'Wed' 'Thu' 'Fri' 'Sat' 'Sun'] \n",
      "\n",
      "[ 0  1  2  3  4  5  6  7  8  9 10 11 12 13 14 15 16 17 18 19 20 21 22 23\n",
      " 24 25 26 27 28 29 30 31 32 33 34 35 36 37 38 39 40 41 42 43 44 45 46 47\n",
      " 48 49 50 51 52 53 54 55 56 57 58 59 60 61 62 63 64 65 66 67 68 69 70 71\n",
      " 72 73 74 75 76 77 78 79 80 81 82 83 84 85 86 87 88 89 90 91 92] \n",
      "\n",
      "[170 175 285 165 180 160 295 155 400 275 485 260 245 280 290] \n",
      "\n",
      "['Economy'] \n",
      "\n",
      "[False True] \n",
      "\n"
     ]
    }
   ],
   "source": [
    "flight_group_unique = big_df.FlightGroup.unique()\n",
    "dept_day_unique = big_df.Dept_Day.unique()\n",
    "taken_day_unique = big_df.Taken_Day.unique()\n",
    "day_to_dept_unique = big_df.Days_To_Dept.unique()\n",
    "duration_unique = big_df.Duration.unique()\n",
    "class_type_unique = big_df.Class_Type.unique()\n",
    "hopping_unique = big_df.Hopping.unique()\n",
    "print(flight_group_unique,'\\n')\n",
    "print(dept_day_unique,'\\n')\n",
    "print(taken_day_unique,'\\n')\n",
    "print(day_to_dept_unique,'\\n')\n",
    "print(duration_unique,'\\n')\n",
    "print(class_type_unique,'\\n')\n",
    "print(hopping_unique,'\\n')"
   ]
  },
  {
   "cell_type": "code",
   "execution_count": 0,
   "metadata": {
    "colab": {},
    "colab_type": "code",
    "id": "-wy_WHY3Tmnt"
   },
   "outputs": [],
   "source": [
    "from sklearn.preprocessing import LabelEncoder\n",
    "\n",
    "lb_encode = LabelEncoder()\n",
    "big_df[\"Hopping\"] = lb_encode.fit_transform(big_df[\"Hopping\"])\n",
    "big_df[\"Airways\"] = lb_encode.fit_transform(big_df[\"Airways\"])\n",
    "#big_df[\"Destination\"] = lb_encode.fit_transform(big_df[\"Destination\"])\n",
    "#big_df[\"Origin\"] = lb_encode.fit_transform(big_df[\"Origin\"])\n",
    "big_df[\"FlightGroup\"] = lb_encode.fit_transform(big_df[\"FlightGroup\"])\n",
    "big_df[\"Session\"] = lb_encode.fit_transform(big_df[\"Session\"])"
   ]
  },
  {
   "cell_type": "code",
   "execution_count": 0,
   "metadata": {
    "colab": {},
    "colab_type": "code",
    "id": "Q_xTWIG0eXzc"
   },
   "outputs": [],
   "source": [
    "big_df[\"Taken_Day\"] = lb_encode.fit_transform(big_df[\"Taken_Day\"])\n",
    "big_df[\"Dept_Day\"] = lb_encode.fit_transform(big_df[\"Dept_Day\"])"
   ]
  },
  {
   "cell_type": "code",
   "execution_count": 28,
   "metadata": {
    "colab": {
     "base_uri": "https://localhost:8080/",
     "height": 258
    },
    "colab_type": "code",
    "id": "hCXAkwlyhfqi",
    "outputId": "c030c22a-27c6-4012-f873-3ba2bc942df5"
   },
   "outputs": [
    {
     "data": {
      "text/html": [
       "<div>\n",
       "<style scoped>\n",
       "    .dataframe tbody tr th:only-of-type {\n",
       "        vertical-align: middle;\n",
       "    }\n",
       "\n",
       "    .dataframe tbody tr th {\n",
       "        vertical-align: top;\n",
       "    }\n",
       "\n",
       "    .dataframe thead th {\n",
       "        text-align: right;\n",
       "    }\n",
       "</style>\n",
       "<table border=\"1\" class=\"dataframe\">\n",
       "  <thead>\n",
       "    <tr style=\"text-align: right;\">\n",
       "      <th></th>\n",
       "      <th>Origin</th>\n",
       "      <th>Destination</th>\n",
       "      <th>Arr_Time</th>\n",
       "      <th>Total_Fare</th>\n",
       "      <th>Base_Fare</th>\n",
       "      <th>Fuel_Fare</th>\n",
       "      <th>Airways</th>\n",
       "      <th>Available</th>\n",
       "      <th>Duration</th>\n",
       "      <th>Class_Type</th>\n",
       "      <th>Flight Number</th>\n",
       "      <th>Flight Code</th>\n",
       "      <th>FlightID</th>\n",
       "      <th>Hopping</th>\n",
       "      <th>Taken_Day</th>\n",
       "      <th>Dept_Day</th>\n",
       "      <th>Days_To_Dept</th>\n",
       "      <th>Dep_Hour</th>\n",
       "      <th>Session</th>\n",
       "      <th>FlightGroup</th>\n",
       "    </tr>\n",
       "  </thead>\n",
       "  <tbody>\n",
       "    <tr>\n",
       "      <th>0</th>\n",
       "      <td>BLR</td>\n",
       "      <td>DEL</td>\n",
       "      <td>2:20</td>\n",
       "      <td>7517.0</td>\n",
       "      <td>6450.0</td>\n",
       "      <td>796.0</td>\n",
       "      <td>2</td>\n",
       "      <td>1.0</td>\n",
       "      <td>170</td>\n",
       "      <td>Economy</td>\n",
       "      <td>2484</td>\n",
       "      <td>6E</td>\n",
       "      <td>6E_2484_</td>\n",
       "      <td>0</td>\n",
       "      <td>4</td>\n",
       "      <td>5</td>\n",
       "      <td>0</td>\n",
       "      <td>23</td>\n",
       "      <td>1</td>\n",
       "      <td>7</td>\n",
       "    </tr>\n",
       "    <tr>\n",
       "      <th>1</th>\n",
       "      <td>BLR</td>\n",
       "      <td>DEL</td>\n",
       "      <td>12:30</td>\n",
       "      <td>7806.0</td>\n",
       "      <td>7025.0</td>\n",
       "      <td>460.0</td>\n",
       "      <td>4</td>\n",
       "      <td>9.0</td>\n",
       "      <td>175</td>\n",
       "      <td>Economy</td>\n",
       "      <td>192</td>\n",
       "      <td>SG</td>\n",
       "      <td>SG_192_</td>\n",
       "      <td>0</td>\n",
       "      <td>4</td>\n",
       "      <td>5</td>\n",
       "      <td>0</td>\n",
       "      <td>9</td>\n",
       "      <td>2</td>\n",
       "      <td>19</td>\n",
       "    </tr>\n",
       "    <tr>\n",
       "      <th>2</th>\n",
       "      <td>BLR</td>\n",
       "      <td>DEL</td>\n",
       "      <td>21:35</td>\n",
       "      <td>7888.0</td>\n",
       "      <td>6755.0</td>\n",
       "      <td>862.0</td>\n",
       "      <td>2</td>\n",
       "      <td>13.0</td>\n",
       "      <td>285</td>\n",
       "      <td>Economy</td>\n",
       "      <td>427_ 202</td>\n",
       "      <td>6E</td>\n",
       "      <td>6E_427_ 202_</td>\n",
       "      <td>0</td>\n",
       "      <td>4</td>\n",
       "      <td>5</td>\n",
       "      <td>0</td>\n",
       "      <td>16</td>\n",
       "      <td>0</td>\n",
       "      <td>6</td>\n",
       "    </tr>\n",
       "    <tr>\n",
       "      <th>3</th>\n",
       "      <td>BLR</td>\n",
       "      <td>DEL</td>\n",
       "      <td>2:10</td>\n",
       "      <td>8009.0</td>\n",
       "      <td>7195.0</td>\n",
       "      <td>661.0</td>\n",
       "      <td>1</td>\n",
       "      <td>11.0</td>\n",
       "      <td>165</td>\n",
       "      <td>Economy</td>\n",
       "      <td>722</td>\n",
       "      <td>I5</td>\n",
       "      <td>I5_722_</td>\n",
       "      <td>0</td>\n",
       "      <td>4</td>\n",
       "      <td>5</td>\n",
       "      <td>0</td>\n",
       "      <td>23</td>\n",
       "      <td>1</td>\n",
       "      <td>4</td>\n",
       "    </tr>\n",
       "    <tr>\n",
       "      <th>4</th>\n",
       "      <td>BLR</td>\n",
       "      <td>DEL</td>\n",
       "      <td>19:45</td>\n",
       "      <td>8041.0</td>\n",
       "      <td>6950.0</td>\n",
       "      <td>820.0</td>\n",
       "      <td>2</td>\n",
       "      <td>3.0</td>\n",
       "      <td>165</td>\n",
       "      <td>Economy</td>\n",
       "      <td>2988</td>\n",
       "      <td>6E</td>\n",
       "      <td>6E_2988_</td>\n",
       "      <td>0</td>\n",
       "      <td>4</td>\n",
       "      <td>5</td>\n",
       "      <td>0</td>\n",
       "      <td>17</td>\n",
       "      <td>0</td>\n",
       "      <td>6</td>\n",
       "    </tr>\n",
       "  </tbody>\n",
       "</table>\n",
       "</div>"
      ],
      "text/plain": [
       "  Origin Destination Arr_Time  Total_Fare  Base_Fare  Fuel_Fare  Airways  \\\n",
       "0    BLR         DEL     2:20      7517.0     6450.0      796.0        2   \n",
       "1    BLR         DEL    12:30      7806.0     7025.0      460.0        4   \n",
       "2    BLR         DEL    21:35      7888.0     6755.0      862.0        2   \n",
       "3    BLR         DEL     2:10      8009.0     7195.0      661.0        1   \n",
       "4    BLR         DEL    19:45      8041.0     6950.0      820.0        2   \n",
       "\n",
       "   Available  Duration Class_Type Flight Number Flight Code      FlightID  \\\n",
       "0        1.0       170    Economy          2484          6E      6E_2484_   \n",
       "1        9.0       175    Economy           192          SG       SG_192_   \n",
       "2       13.0       285    Economy      427_ 202          6E  6E_427_ 202_   \n",
       "3       11.0       165    Economy           722          I5       I5_722_   \n",
       "4        3.0       165    Economy          2988          6E      6E_2988_   \n",
       "\n",
       "   Hopping  Taken_Day  Dept_Day  Days_To_Dept  Dep_Hour  Session  FlightGroup  \n",
       "0        0          4         5             0        23        1            7  \n",
       "1        0          4         5             0         9        2           19  \n",
       "2        0          4         5             0        16        0            6  \n",
       "3        0          4         5             0        23        1            4  \n",
       "4        0          4         5             0        17        0            6  "
      ]
     },
     "execution_count": 28,
     "metadata": {
      "tags": []
     },
     "output_type": "execute_result"
    }
   ],
   "source": [
    "big_df.head()"
   ]
  },
  {
   "cell_type": "code",
   "execution_count": 0,
   "metadata": {
    "colab": {},
    "colab_type": "code",
    "id": "0rROTNdZTmnx"
   },
   "outputs": [],
   "source": [
    "def missing_values_table(df):\n",
    "        # Total missing values\n",
    "        mis_val = df.isnull().sum()\n",
    "        \n",
    "        # Percentage of missing values\n",
    "        mis_val_percent = 100 * df.isnull().sum() / len(df)\n",
    "        \n",
    "        # Make a table with the results\n",
    "        mis_val_table = pd.concat([mis_val, mis_val_percent], axis=1)\n",
    "        \n",
    "        # Rename the columns\n",
    "        mis_val_table_ren_columns = mis_val_table.rename(\n",
    "        columns = {0 : 'Missing Values', 1 : '% of Total Values'})\n",
    "        \n",
    "        # Sort the table by percentage of missing descending\n",
    "        mis_val_table_ren_columns = mis_val_table_ren_columns[\n",
    "            mis_val_table_ren_columns.iloc[:,1] != 0].sort_values(\n",
    "        '% of Total Values', ascending=False).round(1)\n",
    "        \n",
    "        # Print some summary information\n",
    "        print (\"Your selected dataframe has \" + str(df.shape[1]) + \" columns.\\n\"      \n",
    "            \"There are \" + str(mis_val_table_ren_columns.shape[0]) +\n",
    "              \" columns that have missing values.\")\n",
    "        \n",
    "        # Return the dataframe with missing information\n",
    "        return mis_val_table_ren_columns  "
   ]
  },
  {
   "cell_type": "code",
   "execution_count": 30,
   "metadata": {
    "colab": {
     "base_uri": "https://localhost:8080/",
     "height": 83
    },
    "colab_type": "code",
    "id": "jhiPkImqTmn0",
    "outputId": "7b086cc5-8390-4596-88f9-33c58cb80cf4"
   },
   "outputs": [
    {
     "name": "stdout",
     "output_type": "stream",
     "text": [
      "Your selected dataframe has 20 columns.\n",
      "There are 0 columns that have missing values.\n"
     ]
    },
    {
     "data": {
      "text/html": [
       "<div>\n",
       "<style scoped>\n",
       "    .dataframe tbody tr th:only-of-type {\n",
       "        vertical-align: middle;\n",
       "    }\n",
       "\n",
       "    .dataframe tbody tr th {\n",
       "        vertical-align: top;\n",
       "    }\n",
       "\n",
       "    .dataframe thead th {\n",
       "        text-align: right;\n",
       "    }\n",
       "</style>\n",
       "<table border=\"1\" class=\"dataframe\">\n",
       "  <thead>\n",
       "    <tr style=\"text-align: right;\">\n",
       "      <th></th>\n",
       "      <th>Missing Values</th>\n",
       "      <th>% of Total Values</th>\n",
       "    </tr>\n",
       "  </thead>\n",
       "  <tbody>\n",
       "  </tbody>\n",
       "</table>\n",
       "</div>"
      ],
      "text/plain": [
       "Empty DataFrame\n",
       "Columns: [Missing Values, % of Total Values]\n",
       "Index: []"
      ]
     },
     "execution_count": 30,
     "metadata": {
      "tags": []
     },
     "output_type": "execute_result"
    }
   ],
   "source": [
    "missing_values_table(big_df)"
   ]
  },
  {
   "cell_type": "code",
   "execution_count": 31,
   "metadata": {
    "colab": {
     "base_uri": "https://localhost:8080/",
     "height": 442
    },
    "colab_type": "code",
    "id": "rLovtZcJsRDI",
    "outputId": "abdf6ba2-bb70-4e1f-dd8a-4c355d524059"
   },
   "outputs": [
    {
     "name": "stdout",
     "output_type": "stream",
     "text": [
      "<class 'pandas.core.frame.DataFrame'>\n",
      "Int64Index: 20816 entries, 0 to 51720\n",
      "Data columns (total 20 columns):\n",
      "Origin           20816 non-null object\n",
      "Destination      20816 non-null object\n",
      "Arr_Time         20816 non-null object\n",
      "Total_Fare       20816 non-null float64\n",
      "Base_Fare        20816 non-null float64\n",
      "Fuel_Fare        20816 non-null float64\n",
      "Airways          20816 non-null int64\n",
      "Available        20816 non-null float64\n",
      "Duration         20816 non-null int64\n",
      "Class_Type       20816 non-null object\n",
      "Flight Number    20816 non-null object\n",
      "Flight Code      20816 non-null object\n",
      "FlightID         20816 non-null object\n",
      "Hopping          20816 non-null int64\n",
      "Taken_Day        20816 non-null int64\n",
      "Dept_Day         20816 non-null int64\n",
      "Days_To_Dept     20816 non-null int64\n",
      "Dep_Hour         20816 non-null int64\n",
      "Session          20816 non-null int64\n",
      "FlightGroup      20816 non-null int64\n",
      "dtypes: float64(4), int64(9), object(7)\n",
      "memory usage: 3.3+ MB\n"
     ]
    }
   ],
   "source": [
    "big_df.info()"
   ]
  },
  {
   "cell_type": "code",
   "execution_count": 0,
   "metadata": {
    "colab": {},
    "colab_type": "code",
    "id": "i0BBmP06excr"
   },
   "outputs": [],
   "source": [
    "big_df.drop(columns=['Base_Fare','Fuel_Fare','Arr_Time','Available','Class_Type','Flight Number','Flight Code','FlightID','Dep_Hour'],axis=1,inplace=True)"
   ]
  },
  {
   "cell_type": "code",
   "execution_count": 0,
   "metadata": {
    "colab": {},
    "colab_type": "code",
    "id": "lSYEsH15CkI4"
   },
   "outputs": [],
   "source": [
    "big_df.drop(columns=['Origin','Destination'],axis=1,inplace=True)"
   ]
  },
  {
   "cell_type": "code",
   "execution_count": 34,
   "metadata": {
    "colab": {
     "base_uri": "https://localhost:8080/",
     "height": 255
    },
    "colab_type": "code",
    "id": "GyAF0dZWh7jb",
    "outputId": "75b21b45-d19a-4b92-a954-66e7f1479d3e"
   },
   "outputs": [
    {
     "name": "stdout",
     "output_type": "stream",
     "text": [
      "<class 'pandas.core.frame.DataFrame'>\n",
      "Int64Index: 20816 entries, 0 to 51720\n",
      "Data columns (total 9 columns):\n",
      "Total_Fare      20816 non-null float64\n",
      "Airways         20816 non-null int64\n",
      "Duration        20816 non-null int64\n",
      "Hopping         20816 non-null int64\n",
      "Taken_Day       20816 non-null int64\n",
      "Dept_Day        20816 non-null int64\n",
      "Days_To_Dept    20816 non-null int64\n",
      "Session         20816 non-null int64\n",
      "FlightGroup     20816 non-null int64\n",
      "dtypes: float64(1), int64(8)\n",
      "memory usage: 1.6 MB\n"
     ]
    }
   ],
   "source": [
    "big_df.info()"
   ]
  },
  {
   "cell_type": "code",
   "execution_count": 35,
   "metadata": {
    "colab": {
     "base_uri": "https://localhost:8080/",
     "height": 204
    },
    "colab_type": "code",
    "id": "3GXOdF9M7xaZ",
    "outputId": "65cb374d-1724-4ba9-d329-a1baa3401872"
   },
   "outputs": [
    {
     "data": {
      "text/html": [
       "<div>\n",
       "<style scoped>\n",
       "    .dataframe tbody tr th:only-of-type {\n",
       "        vertical-align: middle;\n",
       "    }\n",
       "\n",
       "    .dataframe tbody tr th {\n",
       "        vertical-align: top;\n",
       "    }\n",
       "\n",
       "    .dataframe thead th {\n",
       "        text-align: right;\n",
       "    }\n",
       "</style>\n",
       "<table border=\"1\" class=\"dataframe\">\n",
       "  <thead>\n",
       "    <tr style=\"text-align: right;\">\n",
       "      <th></th>\n",
       "      <th>Total_Fare</th>\n",
       "      <th>Airways</th>\n",
       "      <th>Duration</th>\n",
       "      <th>Hopping</th>\n",
       "      <th>Taken_Day</th>\n",
       "      <th>Dept_Day</th>\n",
       "      <th>Days_To_Dept</th>\n",
       "      <th>Session</th>\n",
       "      <th>FlightGroup</th>\n",
       "    </tr>\n",
       "  </thead>\n",
       "  <tbody>\n",
       "    <tr>\n",
       "      <th>0</th>\n",
       "      <td>7517.0</td>\n",
       "      <td>2</td>\n",
       "      <td>170</td>\n",
       "      <td>0</td>\n",
       "      <td>4</td>\n",
       "      <td>5</td>\n",
       "      <td>0</td>\n",
       "      <td>1</td>\n",
       "      <td>7</td>\n",
       "    </tr>\n",
       "    <tr>\n",
       "      <th>1</th>\n",
       "      <td>7806.0</td>\n",
       "      <td>4</td>\n",
       "      <td>175</td>\n",
       "      <td>0</td>\n",
       "      <td>4</td>\n",
       "      <td>5</td>\n",
       "      <td>0</td>\n",
       "      <td>2</td>\n",
       "      <td>19</td>\n",
       "    </tr>\n",
       "    <tr>\n",
       "      <th>2</th>\n",
       "      <td>7888.0</td>\n",
       "      <td>2</td>\n",
       "      <td>285</td>\n",
       "      <td>0</td>\n",
       "      <td>4</td>\n",
       "      <td>5</td>\n",
       "      <td>0</td>\n",
       "      <td>0</td>\n",
       "      <td>6</td>\n",
       "    </tr>\n",
       "    <tr>\n",
       "      <th>3</th>\n",
       "      <td>8009.0</td>\n",
       "      <td>1</td>\n",
       "      <td>165</td>\n",
       "      <td>0</td>\n",
       "      <td>4</td>\n",
       "      <td>5</td>\n",
       "      <td>0</td>\n",
       "      <td>1</td>\n",
       "      <td>4</td>\n",
       "    </tr>\n",
       "    <tr>\n",
       "      <th>4</th>\n",
       "      <td>8041.0</td>\n",
       "      <td>2</td>\n",
       "      <td>165</td>\n",
       "      <td>0</td>\n",
       "      <td>4</td>\n",
       "      <td>5</td>\n",
       "      <td>0</td>\n",
       "      <td>0</td>\n",
       "      <td>6</td>\n",
       "    </tr>\n",
       "  </tbody>\n",
       "</table>\n",
       "</div>"
      ],
      "text/plain": [
       "   Total_Fare  Airways  Duration  Hopping  Taken_Day  Dept_Day  Days_To_Dept  \\\n",
       "0      7517.0        2       170        0          4         5             0   \n",
       "1      7806.0        4       175        0          4         5             0   \n",
       "2      7888.0        2       285        0          4         5             0   \n",
       "3      8009.0        1       165        0          4         5             0   \n",
       "4      8041.0        2       165        0          4         5             0   \n",
       "\n",
       "   Session  FlightGroup  \n",
       "0        1            7  \n",
       "1        2           19  \n",
       "2        0            6  \n",
       "3        1            4  \n",
       "4        0            6  "
      ]
     },
     "execution_count": 35,
     "metadata": {
      "tags": []
     },
     "output_type": "execute_result"
    }
   ],
   "source": [
    "big_df.head()"
   ]
  },
  {
   "cell_type": "code",
   "execution_count": 36,
   "metadata": {
    "colab": {
     "base_uri": "https://localhost:8080/",
     "height": 255
    },
    "colab_type": "code",
    "id": "S3taQ6TkTmn4",
    "outputId": "62d9ae6a-1dca-4648-9ec7-d2888c5e8bc3"
   },
   "outputs": [
    {
     "name": "stdout",
     "output_type": "stream",
     "text": [
      "<class 'pandas.core.frame.DataFrame'>\n",
      "Int64Index: 18683 entries, 0 to 46243\n",
      "Data columns (total 9 columns):\n",
      "Total_Fare      18683 non-null float64\n",
      "Airways         18683 non-null int64\n",
      "Duration        18683 non-null int64\n",
      "Hopping         18683 non-null int64\n",
      "Taken_Day       18683 non-null int64\n",
      "Dept_Day        18683 non-null int64\n",
      "Days_To_Dept    18683 non-null int64\n",
      "Session         18683 non-null int64\n",
      "FlightGroup     18683 non-null int64\n",
      "dtypes: float64(1), int64(8)\n",
      "memory usage: 1.4 MB\n"
     ]
    }
   ],
   "source": [
    "df_train = big_df[0:18683]\n",
    "df_test = big_df[18683:]\n",
    "df_test = df_test.drop(['Total_Fare'], axis =1)\n",
    "df_train.info()"
   ]
  },
  {
   "cell_type": "code",
   "execution_count": 0,
   "metadata": {
    "colab": {},
    "colab_type": "code",
    "id": "ikTUN552Tmn8"
   },
   "outputs": [],
   "source": [
    "X = df_train.drop(axis=1,columns=['Total_Fare'])\n",
    "y = df_train.Total_Fare"
   ]
  },
  {
   "cell_type": "code",
   "execution_count": 0,
   "metadata": {
    "colab": {},
    "colab_type": "code",
    "id": "w1-OLF-fTmoB"
   },
   "outputs": [],
   "source": [
    "from sklearn.model_selection import train_test_split\n",
    "X_train, X_test, y_train, y_test = train_test_split(X, y, test_size=0.3, random_state=123)"
   ]
  },
  {
   "cell_type": "code",
   "execution_count": 39,
   "metadata": {
    "colab": {
     "base_uri": "https://localhost:8080/",
     "height": 367
    },
    "colab_type": "code",
    "id": "L_9cS39ATmoF",
    "outputId": "073ec693-bb6b-41c4-8b55-01cb99598134"
   },
   "outputs": [
    {
     "data": {
      "text/html": [
       "<img src=\"http://i.imgur.com/QBuDOjs.jpg\"/>"
      ],
      "text/plain": [
       "<IPython.core.display.Image object>"
      ]
     },
     "execution_count": 39,
     "metadata": {
      "tags": []
     },
     "output_type": "execute_result"
    }
   ],
   "source": [
    "from IPython.display import Image\n",
    "from IPython.core.display import HTML \n",
    "Image(url = \"http://i.imgur.com/QBuDOjs.jpg\")"
   ]
  },
  {
   "cell_type": "code",
   "execution_count": 0,
   "metadata": {
    "colab": {},
    "colab_type": "code",
    "id": "bIGIHOLB7xcK"
   },
   "outputs": [],
   "source": [
    "import xgboost as xgb\n",
    "from xgboost import XGBRegressor"
   ]
  },
  {
   "cell_type": "code",
   "execution_count": 0,
   "metadata": {
    "colab": {},
    "colab_type": "code",
    "id": "sn6YhUPfTmpH"
   },
   "outputs": [],
   "source": [
    "from sklearn.model_selection import GridSearchCV\n",
    "from matplotlib.pylab import rcParams\n",
    "rcParams['figure.figsize'] = 12, 4\n",
    "get_ipython().run_line_magic('matplotlib', 'inline')\n",
    "import xgboost as xgb\n",
    "from xgboost import XGBRegressor"
   ]
  },
  {
   "cell_type": "code",
   "execution_count": 0,
   "metadata": {
    "colab": {},
    "colab_type": "code",
    "id": "79Zw0hZZTmpN"
   },
   "outputs": [],
   "source": [
    "'''def modelfit(alg, dtrain, target, useTrainCV=True, \n",
    "             cv_folds=5, early_stopping_rounds=50):\n",
    "    \n",
    "    if useTrainCV:\n",
    "        xgb_param = alg.get_xgb_params()\n",
    "        xgtrain = xgb.DMatrix(dtrain.values, \n",
    "                              label=y.values)\n",
    "        \n",
    "        print(\"\\nGetting Cross-validation result..\")\n",
    "        cvresult = xgb.cv(xgb_param, xgtrain, \n",
    "                          num_boost_round=alg.get_params()['n_estimators'], \n",
    "                          nfold=cv_folds,metrics='rmse', \n",
    "                          early_stopping_rounds=early_stopping_rounds,\n",
    "                          verbose_eval = True)\n",
    "        alg.set_params(n_estimators=cvresult.shape[0])\n",
    "    \n",
    "    #Fit the algorithm on the data\n",
    "    print(\"\\nFitting algorithm to data...\")\n",
    "    alg.fit(dtrain, target, eval_metric='rmse')\n",
    "        \n",
    "    #Predict training set:\n",
    "    print(\"\\nPredicting from training data...\")\n",
    "    dtrain_predictions = alg.predict(dtrain)\n",
    "        \n",
    "    #Print model report:\n",
    "    print(\"\\nModel Report\")\n",
    "    print(\"RMSE : %.4g\" % np.sqrt(mean_squared_error(target.values,\n",
    "                                             dtrain_predictions)))'''"
   ]
  },
  {
   "cell_type": "code",
   "execution_count": 0,
   "metadata": {
    "colab": {},
    "colab_type": "code",
    "id": "3kFBwK22b-lf"
   },
   "outputs": [],
   "source": [
    "#Build our cross validation method\n",
    "kfolds = KFold(n_splits=50,shuffle=True, random_state=100)\n",
    "\n",
    "def cv_rmse(model):\n",
    "    rmse = np.sqrt(-cross_val_score(model, X, y, \n",
    "                                   scoring=\"neg_mean_squared_error\", \n",
    "                                   cv = kfolds))\n",
    "    return(rmse)"
   ]
  },
  {
   "cell_type": "code",
   "execution_count": 44,
   "metadata": {
    "colab": {
     "base_uri": "https://localhost:8080/",
     "height": 1734
    },
    "colab_type": "code",
    "id": "kZqpnWjHTmpP",
    "outputId": "f620b1da-cf96-477c-a2f7-f8cb57aa8d4c"
   },
   "outputs": [
    {
     "name": "stderr",
     "output_type": "stream",
     "text": [
      "/usr/local/lib/python3.6/dist-packages/xgboost/core.py:587: FutureWarning: Series.base is deprecated and will be removed in a future version\n",
      "  if getattr(data, 'base', None) is not None and \\\n",
      "/usr/local/lib/python3.6/dist-packages/xgboost/core.py:587: FutureWarning: Series.base is deprecated and will be removed in a future version\n",
      "  if getattr(data, 'base', None) is not None and \\\n",
      "/usr/local/lib/python3.6/dist-packages/xgboost/core.py:587: FutureWarning: Series.base is deprecated and will be removed in a future version\n",
      "  if getattr(data, 'base', None) is not None and \\\n",
      "/usr/local/lib/python3.6/dist-packages/xgboost/core.py:587: FutureWarning: Series.base is deprecated and will be removed in a future version\n",
      "  if getattr(data, 'base', None) is not None and \\\n",
      "/usr/local/lib/python3.6/dist-packages/xgboost/core.py:587: FutureWarning: Series.base is deprecated and will be removed in a future version\n",
      "  if getattr(data, 'base', None) is not None and \\\n",
      "/usr/local/lib/python3.6/dist-packages/xgboost/core.py:587: FutureWarning: Series.base is deprecated and will be removed in a future version\n",
      "  if getattr(data, 'base', None) is not None and \\\n",
      "/usr/local/lib/python3.6/dist-packages/xgboost/core.py:587: FutureWarning: Series.base is deprecated and will be removed in a future version\n",
      "  if getattr(data, 'base', None) is not None and \\\n",
      "/usr/local/lib/python3.6/dist-packages/xgboost/core.py:587: FutureWarning: Series.base is deprecated and will be removed in a future version\n",
      "  if getattr(data, 'base', None) is not None and \\\n",
      "/usr/local/lib/python3.6/dist-packages/xgboost/core.py:587: FutureWarning: Series.base is deprecated and will be removed in a future version\n",
      "  if getattr(data, 'base', None) is not None and \\\n",
      "/usr/local/lib/python3.6/dist-packages/xgboost/core.py:587: FutureWarning: Series.base is deprecated and will be removed in a future version\n",
      "  if getattr(data, 'base', None) is not None and \\\n",
      "/usr/local/lib/python3.6/dist-packages/xgboost/core.py:587: FutureWarning: Series.base is deprecated and will be removed in a future version\n",
      "  if getattr(data, 'base', None) is not None and \\\n",
      "/usr/local/lib/python3.6/dist-packages/xgboost/core.py:587: FutureWarning: Series.base is deprecated and will be removed in a future version\n",
      "  if getattr(data, 'base', None) is not None and \\\n",
      "/usr/local/lib/python3.6/dist-packages/xgboost/core.py:587: FutureWarning: Series.base is deprecated and will be removed in a future version\n",
      "  if getattr(data, 'base', None) is not None and \\\n",
      "/usr/local/lib/python3.6/dist-packages/xgboost/core.py:587: FutureWarning: Series.base is deprecated and will be removed in a future version\n",
      "  if getattr(data, 'base', None) is not None and \\\n",
      "/usr/local/lib/python3.6/dist-packages/xgboost/core.py:587: FutureWarning: Series.base is deprecated and will be removed in a future version\n",
      "  if getattr(data, 'base', None) is not None and \\\n",
      "/usr/local/lib/python3.6/dist-packages/xgboost/core.py:587: FutureWarning: Series.base is deprecated and will be removed in a future version\n",
      "  if getattr(data, 'base', None) is not None and \\\n",
      "/usr/local/lib/python3.6/dist-packages/xgboost/core.py:587: FutureWarning: Series.base is deprecated and will be removed in a future version\n",
      "  if getattr(data, 'base', None) is not None and \\\n",
      "/usr/local/lib/python3.6/dist-packages/xgboost/core.py:587: FutureWarning: Series.base is deprecated and will be removed in a future version\n",
      "  if getattr(data, 'base', None) is not None and \\\n",
      "/usr/local/lib/python3.6/dist-packages/xgboost/core.py:587: FutureWarning: Series.base is deprecated and will be removed in a future version\n",
      "  if getattr(data, 'base', None) is not None and \\\n",
      "/usr/local/lib/python3.6/dist-packages/xgboost/core.py:587: FutureWarning: Series.base is deprecated and will be removed in a future version\n",
      "  if getattr(data, 'base', None) is not None and \\\n",
      "/usr/local/lib/python3.6/dist-packages/xgboost/core.py:587: FutureWarning: Series.base is deprecated and will be removed in a future version\n",
      "  if getattr(data, 'base', None) is not None and \\\n",
      "/usr/local/lib/python3.6/dist-packages/xgboost/core.py:587: FutureWarning: Series.base is deprecated and will be removed in a future version\n",
      "  if getattr(data, 'base', None) is not None and \\\n",
      "/usr/local/lib/python3.6/dist-packages/xgboost/core.py:587: FutureWarning: Series.base is deprecated and will be removed in a future version\n",
      "  if getattr(data, 'base', None) is not None and \\\n",
      "/usr/local/lib/python3.6/dist-packages/xgboost/core.py:587: FutureWarning: Series.base is deprecated and will be removed in a future version\n",
      "  if getattr(data, 'base', None) is not None and \\\n",
      "/usr/local/lib/python3.6/dist-packages/xgboost/core.py:587: FutureWarning: Series.base is deprecated and will be removed in a future version\n",
      "  if getattr(data, 'base', None) is not None and \\\n",
      "/usr/local/lib/python3.6/dist-packages/xgboost/core.py:587: FutureWarning: Series.base is deprecated and will be removed in a future version\n",
      "  if getattr(data, 'base', None) is not None and \\\n",
      "/usr/local/lib/python3.6/dist-packages/xgboost/core.py:587: FutureWarning: Series.base is deprecated and will be removed in a future version\n",
      "  if getattr(data, 'base', None) is not None and \\\n",
      "/usr/local/lib/python3.6/dist-packages/xgboost/core.py:587: FutureWarning: Series.base is deprecated and will be removed in a future version\n",
      "  if getattr(data, 'base', None) is not None and \\\n",
      "/usr/local/lib/python3.6/dist-packages/xgboost/core.py:587: FutureWarning: Series.base is deprecated and will be removed in a future version\n",
      "  if getattr(data, 'base', None) is not None and \\\n",
      "/usr/local/lib/python3.6/dist-packages/xgboost/core.py:587: FutureWarning: Series.base is deprecated and will be removed in a future version\n",
      "  if getattr(data, 'base', None) is not None and \\\n",
      "/usr/local/lib/python3.6/dist-packages/xgboost/core.py:587: FutureWarning: Series.base is deprecated and will be removed in a future version\n",
      "  if getattr(data, 'base', None) is not None and \\\n",
      "/usr/local/lib/python3.6/dist-packages/xgboost/core.py:587: FutureWarning: Series.base is deprecated and will be removed in a future version\n",
      "  if getattr(data, 'base', None) is not None and \\\n",
      "/usr/local/lib/python3.6/dist-packages/xgboost/core.py:587: FutureWarning: Series.base is deprecated and will be removed in a future version\n",
      "  if getattr(data, 'base', None) is not None and \\\n",
      "/usr/local/lib/python3.6/dist-packages/xgboost/core.py:587: FutureWarning: Series.base is deprecated and will be removed in a future version\n",
      "  if getattr(data, 'base', None) is not None and \\\n",
      "/usr/local/lib/python3.6/dist-packages/xgboost/core.py:587: FutureWarning: Series.base is deprecated and will be removed in a future version\n",
      "  if getattr(data, 'base', None) is not None and \\\n",
      "/usr/local/lib/python3.6/dist-packages/xgboost/core.py:587: FutureWarning: Series.base is deprecated and will be removed in a future version\n",
      "  if getattr(data, 'base', None) is not None and \\\n",
      "/usr/local/lib/python3.6/dist-packages/xgboost/core.py:587: FutureWarning: Series.base is deprecated and will be removed in a future version\n",
      "  if getattr(data, 'base', None) is not None and \\\n",
      "/usr/local/lib/python3.6/dist-packages/xgboost/core.py:587: FutureWarning: Series.base is deprecated and will be removed in a future version\n",
      "  if getattr(data, 'base', None) is not None and \\\n",
      "/usr/local/lib/python3.6/dist-packages/xgboost/core.py:587: FutureWarning: Series.base is deprecated and will be removed in a future version\n",
      "  if getattr(data, 'base', None) is not None and \\\n",
      "/usr/local/lib/python3.6/dist-packages/xgboost/core.py:587: FutureWarning: Series.base is deprecated and will be removed in a future version\n",
      "  if getattr(data, 'base', None) is not None and \\\n",
      "/usr/local/lib/python3.6/dist-packages/xgboost/core.py:587: FutureWarning: Series.base is deprecated and will be removed in a future version\n",
      "  if getattr(data, 'base', None) is not None and \\\n",
      "/usr/local/lib/python3.6/dist-packages/xgboost/core.py:587: FutureWarning: Series.base is deprecated and will be removed in a future version\n",
      "  if getattr(data, 'base', None) is not None and \\\n",
      "/usr/local/lib/python3.6/dist-packages/xgboost/core.py:587: FutureWarning: Series.base is deprecated and will be removed in a future version\n",
      "  if getattr(data, 'base', None) is not None and \\\n",
      "/usr/local/lib/python3.6/dist-packages/xgboost/core.py:587: FutureWarning: Series.base is deprecated and will be removed in a future version\n",
      "  if getattr(data, 'base', None) is not None and \\\n",
      "/usr/local/lib/python3.6/dist-packages/xgboost/core.py:587: FutureWarning: Series.base is deprecated and will be removed in a future version\n",
      "  if getattr(data, 'base', None) is not None and \\\n",
      "/usr/local/lib/python3.6/dist-packages/xgboost/core.py:587: FutureWarning: Series.base is deprecated and will be removed in a future version\n",
      "  if getattr(data, 'base', None) is not None and \\\n",
      "/usr/local/lib/python3.6/dist-packages/xgboost/core.py:587: FutureWarning: Series.base is deprecated and will be removed in a future version\n",
      "  if getattr(data, 'base', None) is not None and \\\n",
      "/usr/local/lib/python3.6/dist-packages/xgboost/core.py:587: FutureWarning: Series.base is deprecated and will be removed in a future version\n",
      "  if getattr(data, 'base', None) is not None and \\\n",
      "/usr/local/lib/python3.6/dist-packages/xgboost/core.py:587: FutureWarning: Series.base is deprecated and will be removed in a future version\n",
      "  if getattr(data, 'base', None) is not None and \\\n",
      "/usr/local/lib/python3.6/dist-packages/xgboost/core.py:587: FutureWarning: Series.base is deprecated and will be removed in a future version\n",
      "  if getattr(data, 'base', None) is not None and \\\n"
     ]
    },
    {
     "data": {
      "text/plain": [
       "958.9030823033462"
      ]
     },
     "execution_count": 44,
     "metadata": {
      "tags": []
     },
     "output_type": "execute_result"
    }
   ],
   "source": [
    "xgb3 = XGBRegressor(learning_rate =0.1, n_estimators=200, max_depth=10,\n",
    "                     min_child_weight=5 ,gamma=0, subsample=0.7,max_bin=20,\n",
    "                     colsample_bytree=0.8,objective= 'reg:linear',\n",
    "                     nthread=4,scale_pos_weight=1,seed=27, reg_alpha=0.00006)\n",
    "\n",
    "xgb_fit = xgb3.fit(X_train, y_train)\n",
    "\n",
    "cv_rmse(xgb_fit).mean()"
   ]
  },
  {
   "cell_type": "code",
   "execution_count": 0,
   "metadata": {
    "colab": {},
    "colab_type": "code",
    "id": "KkgLb_SATmpU"
   },
   "outputs": [],
   "source": [
    "from mlxtend.regressor import StackingCVRegressor\n",
    "from sklearn.pipeline import make_pipeline"
   ]
  },
  {
   "cell_type": "code",
   "execution_count": 46,
   "metadata": {
    "colab": {
     "base_uri": "https://localhost:8080/",
     "height": 34
    },
    "colab_type": "code",
    "id": "1ozvCCGPTmpc",
    "outputId": "e20ee0ae-db4a-49c8-fe55-752f7662a651"
   },
   "outputs": [
    {
     "data": {
      "text/plain": [
       "987.3978678674819"
      ]
     },
     "execution_count": 46,
     "metadata": {
      "tags": []
     },
     "output_type": "execute_result"
    }
   ],
   "source": [
    "from lightgbm import LGBMRegressor\n",
    "\n",
    "lgbm_model = LGBMRegressor(objective='regression',num_leaves=31,\n",
    "                              learning_rate=0.1, n_estimators=200,\n",
    "                              max_bin = 100, bagging_fraction = 0.8,\n",
    "                              bagging_freq = 5, feature_fraction = 0.8,\n",
    "                              feature_fraction_seed=9, bagging_seed=9,\n",
    "                              min_data_in_leaf =20, min_sum_hessian_in_leaf = 11)\n",
    "lgbm_fit = lgbm_model.fit(X_train, y_train)\n",
    "\n",
    "cv_rmse(lgbm_fit).mean()"
   ]
  },
  {
   "cell_type": "code",
   "execution_count": 47,
   "metadata": {
    "colab": {
     "base_uri": "https://localhost:8080/",
     "height": 34
    },
    "colab_type": "code",
    "id": "2xu6PXb27xci",
    "outputId": "5d8847e3-713e-4014-f3ef-230094da7a6d"
   },
   "outputs": [
    {
     "data": {
      "text/plain": [
       "995.393931958713"
      ]
     },
     "execution_count": 47,
     "metadata": {
      "tags": []
     },
     "output_type": "execute_result"
    }
   ],
   "source": [
    "from sklearn.ensemble import RandomForestRegressor\n",
    "forest = RandomForestRegressor(n_estimators=300, random_state=42)\n",
    "forest_fit = forest.fit(X_train,y_train)\n",
    "cv_rmse(forest_fit).mean()"
   ]
  },
  {
   "cell_type": "code",
   "execution_count": 0,
   "metadata": {
    "colab": {},
    "colab_type": "code",
    "id": "RKpXfrkvTmpk"
   },
   "outputs": [],
   "source": [
    "from mlxtend.regressor import StackingCVRegressor\n",
    "from sklearn.pipeline import make_pipeline\n",
    "\n",
    "#setup models\n",
    "\n",
    "lightgbm = make_pipeline(RobustScaler(),\n",
    "                        LGBMRegressor(objective='regression',num_leaves=31,\n",
    "                              learning_rate=0.1, n_estimators=200,\n",
    "                              max_bin = 100, bagging_fraction = 0.8,\n",
    "                              bagging_freq = 5, feature_fraction = 0.8,\n",
    "                              feature_fraction_seed=9, bagging_seed=9,\n",
    "                              min_data_in_leaf =6, min_sum_hessian_in_leaf = 11))\n",
    "\n",
    "xgboost = make_pipeline(RobustScaler(),\n",
    "                        XGBRegressor(learning_rate =0.1, n_estimators=200, max_depth=10,\n",
    "                     min_child_weight=5 ,gamma=0, subsample=0.7,\n",
    "                     colsample_bytree=0.8,objective= 'reg:linear',\n",
    "                     nthread=4,scale_pos_weight=1,seed=27, reg_alpha=0.00006))\n",
    "\n",
    "forest = make_pipeline(RobustScaler(),\n",
    "                        RandomForestRegressor(n_estimators=300, random_state=42))\n",
    " \n",
    "\n",
    "#stack\n",
    "stack_gen = StackingCVRegressor(regressors=( lightgbm,xgboost,forest), \n",
    "                               meta_regressor=xgboost,\n",
    "                               use_features_in_secondary=True)\n",
    "\n",
    "#prepare dataframes\n",
    "stackX = np.array(X_train)\n",
    "stacky = np.array(y_train)"
   ]
  },
  {
   "cell_type": "code",
   "execution_count": 0,
   "metadata": {
    "colab": {},
    "colab_type": "code",
    "id": "4SiIERTRTmpv"
   },
   "outputs": [],
   "source": [
    "stack_gen_model = stack_gen.fit(stackX, stacky)"
   ]
  },
  {
   "cell_type": "code",
   "execution_count": 0,
   "metadata": {
    "colab": {},
    "colab_type": "code",
    "id": "wIZ-XJyZTmpz"
   },
   "outputs": [],
   "source": [
    "stack_gen_preds = stack_gen_model.predict(X_test)\n",
    "xgb_preds = xgb_fit.predict(X_test)\n",
    "lgbm_preds = lgbm_fit.predict(X_test)\n",
    "forest_preds = forest_fit.predict(X_test)"
   ]
  },
  {
   "cell_type": "code",
   "execution_count": 51,
   "metadata": {
    "colab": {
     "base_uri": "https://localhost:8080/",
     "height": 85
    },
    "colab_type": "code",
    "id": "GEkTWjoFTmp1",
    "outputId": "c81f0369-1bb1-4989-9706-2d27c3776f1f"
   },
   "outputs": [
    {
     "name": "stdout",
     "output_type": "stream",
     "text": [
      "RMSE_FOREST: 1095.348417\n",
      "RMSE_XGB: 1064.744983\n",
      "RMSE_LGBM: 1109.014249\n",
      "RMSE_STACK: 1088.892263\n"
     ]
    }
   ],
   "source": [
    "from sklearn.metrics import mean_squared_error\n",
    "from math import sqrt\n",
    "\n",
    "rmse_forest = np.sqrt(mean_squared_error(y_test, forest_preds))\n",
    "print(\"RMSE_FOREST: %f\" % (rmse_forest))\n",
    "\n",
    "rmse_xgb = np.sqrt(mean_squared_error(y_test, xgb_preds))\n",
    "print(\"RMSE_XGB: %f\" % (rmse_xgb))\n",
    "\n",
    "rmse_lgbm = np.sqrt(mean_squared_error(y_test, lgbm_preds))\n",
    "print(\"RMSE_LGBM: %f\" % (rmse_lgbm))\n",
    "\n",
    "rmse_stack = np.sqrt(mean_squared_error(y_test, stack_gen_preds))\n",
    "print(\"RMSE_STACK: %f\" % (rmse_stack))"
   ]
  },
  {
   "cell_type": "code",
   "execution_count": 52,
   "metadata": {
    "colab": {
     "base_uri": "https://localhost:8080/",
     "height": 85
    },
    "colab_type": "code",
    "id": "tOtwNWC5LeGE",
    "outputId": "5b684d91-3c17-416a-ac79-3c986f52dc5d"
   },
   "outputs": [
    {
     "name": "stdout",
     "output_type": "stream",
     "text": [
      "r2_xgb 0.8376459342144456\n",
      "r2_lgbm 0.8238647760832406\n",
      "r2_forest 0.8281788846960183\n",
      "r2_stack 0.8301983962660315\n"
     ]
    }
   ],
   "source": [
    "from sklearn.metrics import r2_score\n",
    "print('r2_xgb' ,r2_score(y_test,xgb_preds) )\n",
    "print('r2_lgbm' , r2_score(y_test,lgbm_preds) )\n",
    "print('r2_forest' , r2_score(y_test,forest_preds) )\n",
    "print('r2_stack' , r2_score(y_test,stack_gen_preds) )"
   ]
  },
  {
   "cell_type": "code",
   "execution_count": 0,
   "metadata": {
    "colab": {},
    "colab_type": "code",
    "id": "jiLp4u8Ap8OL"
   },
   "outputs": [],
   "source": [
    "abs_error = abs(stack_gen_preds - y_test)\n",
    "#print('Absolute Error',abs_error)\n",
    "mabe = 100 * (abs_error / y_test)"
   ]
  },
  {
   "cell_type": "code",
   "execution_count": 54,
   "metadata": {
    "colab": {
     "base_uri": "https://localhost:8080/",
     "height": 34
    },
    "colab_type": "code",
    "id": "o7LaGQ1qp7kq",
    "outputId": "ee6f3e68-7da3-40a1-943e-a1a28a604f54"
   },
   "outputs": [
    {
     "name": "stdout",
     "output_type": "stream",
     "text": [
      "Accuracy: 92.52 %.\n"
     ]
    }
   ],
   "source": [
    "accuracy = 100 - np.mean(mabe)\n",
    "print('Accuracy:', round(accuracy, 2), '%.')"
   ]
  },
  {
   "cell_type": "code",
   "execution_count": 55,
   "metadata": {
    "colab": {
     "base_uri": "https://localhost:8080/",
     "height": 102
    },
    "colab_type": "code",
    "id": "zmlgRUKUtYBm",
    "outputId": "fcfb5298-bca7-4327-ae11-67cf20700a6c"
   },
   "outputs": [
    {
     "name": "stdout",
     "output_type": "stream",
     "text": [
      "       Airways  Duration  Hopping  Taken_Day  Dept_Day  Days_To_Dept  Session  \\\n",
      "29846        2       170        0          3         3            80        1   \n",
      "\n",
      "       FlightGroup  \n",
      "29846            7  \n"
     ]
    }
   ],
   "source": [
    "testval = X_test.iloc[0].to_frame().T\n",
    "print(testval)"
   ]
  },
  {
   "cell_type": "code",
   "execution_count": 56,
   "metadata": {
    "colab": {
     "base_uri": "https://localhost:8080/",
     "height": 34
    },
    "colab_type": "code",
    "id": "er9edQHosSTt",
    "outputId": "f5fdca0f-09a3-40bd-f082-4b8dbf49e054"
   },
   "outputs": [
    {
     "data": {
      "text/plain": [
       "array([3423.7727], dtype=float32)"
      ]
     },
     "execution_count": 56,
     "metadata": {
      "tags": []
     },
     "output_type": "execute_result"
    }
   ],
   "source": [
    "stack_gen_model.predict(testval)"
   ]
  },
  {
   "cell_type": "code",
   "execution_count": 59,
   "metadata": {
    "colab": {
     "base_uri": "https://localhost:8080/",
     "height": 34
    },
    "colab_type": "code",
    "id": "7ayqR1Bufglm",
    "outputId": "b1c38955-3133-476a-f6d8-4751469d0e82"
   },
   "outputs": [
    {
     "name": "stdout",
     "output_type": "stream",
     "text": [
      "3417.0\n"
     ]
    }
   ],
   "source": [
    "print(y_test.iloc[0])"
   ]
  },
  {
   "cell_type": "code",
   "execution_count": 0,
   "metadata": {
    "colab": {},
    "colab_type": "code",
    "id": "nU9385-DflWv"
   },
   "outputs": [],
   "source": [
    "rf_filename = 'stacked_model.pkl'\n",
    "import pickle as pkl\n",
    "pkl.dump(forest, open(rf_filename, 'wb'))"
   ]
  },
  {
   "cell_type": "code",
   "execution_count": 0,
   "metadata": {
    "colab": {},
    "colab_type": "code",
    "id": "Phfv5NoqgPbD"
   },
   "outputs": [],
   "source": []
  }
 ],
 "metadata": {
  "colab": {
   "collapsed_sections": [],
   "name": "flight_fare-Copy2.ipynb",
   "provenance": [],
   "version": "0.3.2"
  },
  "kernelspec": {
   "display_name": "Python 3",
   "language": "python",
   "name": "python3"
  },
  "language_info": {
   "codemirror_mode": {
    "name": "ipython",
    "version": 3
   },
   "file_extension": ".py",
   "mimetype": "text/x-python",
   "name": "python",
   "nbconvert_exporter": "python",
   "pygments_lexer": "ipython3",
   "version": "3.6.8"
  }
 },
 "nbformat": 4,
 "nbformat_minor": 1
}
